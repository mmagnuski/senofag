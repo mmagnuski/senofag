{
 "cells": [
  {
   "cell_type": "code",
   "execution_count": 1,
   "metadata": {
    "collapsed": false
   },
   "outputs": [],
   "source": [
    "import numpy as np\n",
    "import pandas as pd\n",
    "import os\n",
    "import glob\n",
    "import superskrypt as sp\n",
    "from scipy import stats"
   ]
  },
  {
   "cell_type": "code",
   "execution_count": 2,
   "metadata": {
    "collapsed": false
   },
   "outputs": [
    {
     "name": "stdout",
     "output_type": "stream",
     "text": [
      "C:\\Users\\LEON-NETB\\Dropbox\\LEON_CIECHANOWSKI\\DANE\n"
     ]
    }
   ],
   "source": [
    "PTH = r\"C:\\Users\\LEON-NETB\\Dropbox\\LEON_CIECHANOWSKI\\DANE\"\n",
    "os.chdir(PTH)\n",
    "print(os.getcwd())"
   ]
  },
  {
   "cell_type": "code",
   "execution_count": 6,
   "metadata": {
    "collapsed": false,
    "scrolled": true
   },
   "outputs": [],
   "source": [
    "df = \"s1.txt\"\n",
    "df = pd.read_csv(df, sep='\\t')\n",
    "df = pd.DataFrame(df)"
   ]
  },
  {
   "cell_type": "code",
   "execution_count": 4,
   "metadata": {
    "collapsed": true
   },
   "outputs": [],
   "source": [
    "def is_odd(num):\n",
    "    return num % 2"
   ]
  },
  {
   "cell_type": "code",
   "execution_count": 10,
   "metadata": {
    "collapsed": false
   },
   "outputs": [
    {
     "data": {
      "text/html": [
       "<div>\n",
       "<table border=\"1\" class=\"dataframe\">\n",
       "  <thead>\n",
       "    <tr style=\"text-align: right;\">\n",
       "      <th></th>\n",
       "      <th>comp_r_RT</th>\n",
       "      <th>comp_l_RT</th>\n",
       "      <th>incomp_r_RT</th>\n",
       "      <th>incomp_l_RT</th>\n",
       "      <th>neut_r_RT</th>\n",
       "      <th>neut_l_RT</th>\n",
       "      <th>comp_RT</th>\n",
       "      <th>incomp_RT</th>\n",
       "      <th>neut_RT</th>\n",
       "    </tr>\n",
       "  </thead>\n",
       "  <tbody>\n",
       "    <tr>\n",
       "      <th>1</th>\n",
       "      <td>346.888889</td>\n",
       "      <td>338.439394</td>\n",
       "      <td>354.273973</td>\n",
       "      <td>363.176471</td>\n",
       "      <td>330.2</td>\n",
       "      <td>340.873016</td>\n",
       "      <td>342.664141</td>\n",
       "      <td>358.725222</td>\n",
       "      <td>335.536508</td>\n",
       "    </tr>\n",
       "  </tbody>\n",
       "</table>\n",
       "</div>"
      ],
      "text/plain": [
       "    comp_r_RT   comp_l_RT  incomp_r_RT  incomp_l_RT  neut_r_RT   neut_l_RT  \\\n",
       "1  346.888889  338.439394   354.273973   363.176471      330.2  340.873016   \n",
       "\n",
       "      comp_RT   incomp_RT     neut_RT  \n",
       "1  342.664141  358.725222  335.536508  "
      ]
     },
     "execution_count": 10,
     "metadata": {},
     "output_type": "execute_result"
    }
   ],
   "source": [
    "db2"
   ]
  },
  {
   "cell_type": "code",
   "execution_count": 12,
   "metadata": {
    "collapsed": false
   },
   "outputs": [
    {
     "name": "stderr",
     "output_type": "stream",
     "text": [
      "D:\\Miniconda3\\envs\\py3\\lib\\site-packages\\pandas\\core\\indexing.py:415: SettingWithCopyWarning: \n",
      "A value is trying to be set on a copy of a slice from a DataFrame.\n",
      "Try using .loc[row_indexer,col_indexer] = value instead\n",
      "\n",
      "See the the caveats in the documentation: http://pandas.pydata.org/pandas-docs/stable/indexing.html#indexing-view-versus-copy\n",
      "  self.obj[item] = s\n"
     ]
    },
    {
     "ename": "TypeError",
     "evalue": "cannot concatenate a non-NDFrame object",
     "output_type": "error",
     "traceback": [
      "\u001b[1;31m---------------------------------------------------------------------------\u001b[0m",
      "\u001b[1;31mTypeError\u001b[0m                                 Traceback (most recent call last)",
      "\u001b[1;32m<ipython-input-12-1ad67adca07f>\u001b[0m in \u001b[0;36m<module>\u001b[1;34m()\u001b[0m\n\u001b[0;32m      4\u001b[0m \u001b[0mdb\u001b[0m \u001b[1;33m=\u001b[0m \u001b[0msp\u001b[0m\u001b[1;33m.\u001b[0m\u001b[0mget_color_info\u001b[0m\u001b[1;33m(\u001b[0m\u001b[0mdf\u001b[0m\u001b[1;33m)\u001b[0m\u001b[1;33m\u001b[0m\u001b[0m\n\u001b[0;32m      5\u001b[0m \u001b[0mdb2\u001b[0m \u001b[1;33m=\u001b[0m \u001b[0msp\u001b[0m\u001b[1;33m.\u001b[0m\u001b[0mget_RT\u001b[0m\u001b[1;33m(\u001b[0m\u001b[0mdf\u001b[0m\u001b[1;33m)\u001b[0m\u001b[1;33m\u001b[0m\u001b[0m\n\u001b[1;32m----> 6\u001b[1;33m \u001b[0md2\u001b[0m \u001b[1;33m=\u001b[0m \u001b[0mpd\u001b[0m\u001b[1;33m.\u001b[0m\u001b[0mconcat\u001b[0m\u001b[1;33m(\u001b[0m\u001b[1;33m[\u001b[0m\u001b[0mdb\u001b[0m\u001b[1;33m,\u001b[0m \u001b[0mdb2\u001b[0m\u001b[1;33m]\u001b[0m\u001b[1;33m,\u001b[0m \u001b[0maxis\u001b[0m\u001b[1;33m=\u001b[0m\u001b[1;36m1\u001b[0m\u001b[1;33m)\u001b[0m\u001b[1;33m\u001b[0m\u001b[0m\n\u001b[0m\u001b[0;32m      7\u001b[0m \u001b[1;31m#d2 = d2.append(db, ignore_index=True)\u001b[0m\u001b[1;33m\u001b[0m\u001b[1;33m\u001b[0m\u001b[0m\n\u001b[0;32m      8\u001b[0m \u001b[1;31m#d2 = d2.append(db2, ignore_index=True)\u001b[0m\u001b[1;33m\u001b[0m\u001b[1;33m\u001b[0m\u001b[0m\n",
      "\u001b[1;32mD:\\Miniconda3\\envs\\py3\\lib\\site-packages\\pandas\\tools\\merge.py\u001b[0m in \u001b[0;36mconcat\u001b[1;34m(objs, axis, join, join_axes, ignore_index, keys, levels, names, verify_integrity, copy)\u001b[0m\n\u001b[0;32m    752\u001b[0m                        \u001b[0mkeys\u001b[0m\u001b[1;33m=\u001b[0m\u001b[0mkeys\u001b[0m\u001b[1;33m,\u001b[0m \u001b[0mlevels\u001b[0m\u001b[1;33m=\u001b[0m\u001b[0mlevels\u001b[0m\u001b[1;33m,\u001b[0m \u001b[0mnames\u001b[0m\u001b[1;33m=\u001b[0m\u001b[0mnames\u001b[0m\u001b[1;33m,\u001b[0m\u001b[1;33m\u001b[0m\u001b[0m\n\u001b[0;32m    753\u001b[0m                        \u001b[0mverify_integrity\u001b[0m\u001b[1;33m=\u001b[0m\u001b[0mverify_integrity\u001b[0m\u001b[1;33m,\u001b[0m\u001b[1;33m\u001b[0m\u001b[0m\n\u001b[1;32m--> 754\u001b[1;33m                        copy=copy)\n\u001b[0m\u001b[0;32m    755\u001b[0m     \u001b[1;32mreturn\u001b[0m \u001b[0mop\u001b[0m\u001b[1;33m.\u001b[0m\u001b[0mget_result\u001b[0m\u001b[1;33m(\u001b[0m\u001b[1;33m)\u001b[0m\u001b[1;33m\u001b[0m\u001b[0m\n\u001b[0;32m    756\u001b[0m \u001b[1;33m\u001b[0m\u001b[0m\n",
      "\u001b[1;32mD:\\Miniconda3\\envs\\py3\\lib\\site-packages\\pandas\\tools\\merge.py\u001b[0m in \u001b[0;36m__init__\u001b[1;34m(self, objs, axis, join, join_axes, keys, levels, names, ignore_index, verify_integrity, copy)\u001b[0m\n\u001b[0;32m    803\u001b[0m         \u001b[1;32mfor\u001b[0m \u001b[0mobj\u001b[0m \u001b[1;32min\u001b[0m \u001b[0mobjs\u001b[0m\u001b[1;33m:\u001b[0m\u001b[1;33m\u001b[0m\u001b[0m\n\u001b[0;32m    804\u001b[0m             \u001b[1;32mif\u001b[0m \u001b[1;32mnot\u001b[0m \u001b[0misinstance\u001b[0m\u001b[1;33m(\u001b[0m\u001b[0mobj\u001b[0m\u001b[1;33m,\u001b[0m \u001b[0mNDFrame\u001b[0m\u001b[1;33m)\u001b[0m\u001b[1;33m:\u001b[0m\u001b[1;33m\u001b[0m\u001b[0m\n\u001b[1;32m--> 805\u001b[1;33m                 \u001b[1;32mraise\u001b[0m \u001b[0mTypeError\u001b[0m\u001b[1;33m(\u001b[0m\u001b[1;34m\"cannot concatenate a non-NDFrame object\"\u001b[0m\u001b[1;33m)\u001b[0m\u001b[1;33m\u001b[0m\u001b[0m\n\u001b[0m\u001b[0;32m    806\u001b[0m \u001b[1;33m\u001b[0m\u001b[0m\n\u001b[0;32m    807\u001b[0m             \u001b[1;31m# consolidate\u001b[0m\u001b[1;33m\u001b[0m\u001b[1;33m\u001b[0m\u001b[0m\n",
      "\u001b[1;31mTypeError\u001b[0m: cannot concatenate a non-NDFrame object"
     ]
    }
   ],
   "source": [
    "subj_num = []\n",
    "\n",
    "d2 = pd.DataFrame()\n",
    "db = sp.get_color_info(df)\n",
    "db2 = sp.get_RT(df)\n",
    "d2 = pd.concat([db, db2], axis=1)\n",
    "#d2 = d2.append(db, ignore_index=True)\n",
    "#d2 = d2.append(db2, ignore_index=True)\n",
    "\n",
    "print('Done!')\n",
    "d2"
   ]
  },
  {
   "cell_type": "code",
   "execution_count": 21,
   "metadata": {
    "collapsed": true
   },
   "outputs": [
    {
     "name": "stdout",
     "output_type": "stream",
     "text": [
      "read s1.txt!\n",
      "read s11.txt!\n",
      "read s13.txt!\n",
      "read s15.txt!\n",
      "read s18.txt!\n",
      "read s19.txt!\n",
      "read s2.txt!\n",
      "read s20.txt!\n",
      "read s21.txt!\n",
      "read s22.txt!\n",
      "read s24.txt!\n",
      "read s25.txt!\n",
      "read s26.txt!\n",
      "read s27.txt!\n",
      "read s28.txt!\n",
      "read s29.txt!\n",
      "read s30.txt!\n",
      "read s32.txt!\n",
      "read s33.txt!\n",
      "read s34.txt!\n",
      "read s35.txt!\n",
      "read s36.txt!\n",
      "read s37.txt!\n",
      "read s38.txt!\n",
      "read s39.txt!\n",
      "read s4.txt!\n",
      "read s41.txt!\n",
      "read s5.txt!\n",
      "read s6.txt!\n",
      "read s7.txt!\n",
      "read s8.txt!\n",
      "read s9.txt!\n"
     ]
    }
   ],
   "source": [
    "d2 = pd.DataFrame()\n",
    "subj_num = []\n",
    "for f in glob.glob('*.txt'):\n",
    "    subj_num.append(int(f.split('.')[0][1:]))\n",
    "    df = pd.read_csv(f, sep='\\t')\n",
    "    print('read {}!'.format(f))\n",
    "    db = sp.get_color_info(df)\n",
    "    db2 = sp.get_RT(df)\n",
    "    d2 = d2.append(db, ignore_index=True)\n",
    "    d2 = d2.append(db2, ignore_index=True)\n",
    "print('Done!')"
   ]
  },
  {
   "cell_type": "code",
   "execution_count": 28,
   "metadata": {
    "collapsed": false,
    "scrolled": true
   },
   "outputs": [
    {
     "data": {
      "text/html": [
       "<div>\n",
       "<table border=\"1\" class=\"dataframe\">\n",
       "  <thead>\n",
       "    <tr style=\"text-align: right;\">\n",
       "      <th></th>\n",
       "      <th>comp_l</th>\n",
       "      <th>comp_r</th>\n",
       "      <th>incomp_l</th>\n",
       "      <th>incomp_r</th>\n",
       "      <th>neut_l</th>\n",
       "      <th>neut_r</th>\n",
       "    </tr>\n",
       "  </thead>\n",
       "  <tbody>\n",
       "    <tr>\n",
       "      <th>0</th>\n",
       "      <td>[23, 35, 10, 35, 10, 35]</td>\n",
       "      <td>[25, 4, 30, 6, 2, 6]</td>\n",
       "      <td>[20, 3, 2, 4, 30, 20]</td>\n",
       "      <td>[18, 50, 40, 15, 3, 4]</td>\n",
       "      <td>[15, 6, 3, 30, 40, 10]</td>\n",
       "      <td>[24, 2, 15, 10, 15, 30]</td>\n",
       "    </tr>\n",
       "    <tr>\n",
       "      <th>1</th>\n",
       "      <td>[11, 70, 35, 90, 24, 69]</td>\n",
       "      <td>[55, 100, 95, 40, 89, 28]</td>\n",
       "      <td>[25, 60, 50, 77, 15, 50]</td>\n",
       "      <td>[95, 25, 100, 30, 63, 17]</td>\n",
       "      <td>[80, 1, 85, 25, 72, 88]</td>\n",
       "      <td>[45, 85, 70, 60, 41, 36]</td>\n",
       "    </tr>\n",
       "    <tr>\n",
       "      <th>2</th>\n",
       "      <td>[40, 10, 15, 7, 17, 10]</td>\n",
       "      <td>[50, 20, 7, 4, 3, 25]</td>\n",
       "      <td>[30, 15, 17, 13, 20, 30]</td>\n",
       "      <td>[20, 2, 12, 15, 24, 17]</td>\n",
       "      <td>[80, 7, 16, 10, 15, 5]</td>\n",
       "      <td>[57, 13, 18, 12, 7, 3]</td>\n",
       "    </tr>\n",
       "    <tr>\n",
       "      <th>3</th>\n",
       "      <td>[11, 45, 4, 60, 94, 15]</td>\n",
       "      <td>[44, 67, 5, 40, 95, 20]</td>\n",
       "      <td>[55, 56, 2, 15, 98, 12]</td>\n",
       "      <td>[22, 78, 6, 1, 99, 19]</td>\n",
       "      <td>[33, 89, 3, 100, 97, 1]</td>\n",
       "      <td>[66, 34, 1, 85, 96, 94]</td>\n",
       "    </tr>\n",
       "    <tr>\n",
       "      <th>4</th>\n",
       "      <td>[50, 25, 20, 60, 5, 80]</td>\n",
       "      <td>[36, 40, 12, 30, 95, 15]</td>\n",
       "      <td>[75, 10, 50, 80, 45, 30]</td>\n",
       "      <td>[95, 75, 99, 40, 70, 50]</td>\n",
       "      <td>[23, 85, 0, 0, 30, 85]</td>\n",
       "      <td>[15, 50, 70, 5, 15, 65]</td>\n",
       "    </tr>\n",
       "  </tbody>\n",
       "</table>\n",
       "</div>"
      ],
      "text/plain": [
       "                     comp_l                     comp_r  \\\n",
       "0  [23, 35, 10, 35, 10, 35]       [25, 4, 30, 6, 2, 6]   \n",
       "1  [11, 70, 35, 90, 24, 69]  [55, 100, 95, 40, 89, 28]   \n",
       "2   [40, 10, 15, 7, 17, 10]      [50, 20, 7, 4, 3, 25]   \n",
       "3   [11, 45, 4, 60, 94, 15]    [44, 67, 5, 40, 95, 20]   \n",
       "4   [50, 25, 20, 60, 5, 80]   [36, 40, 12, 30, 95, 15]   \n",
       "\n",
       "                   incomp_l                   incomp_r  \\\n",
       "0     [20, 3, 2, 4, 30, 20]     [18, 50, 40, 15, 3, 4]   \n",
       "1  [25, 60, 50, 77, 15, 50]  [95, 25, 100, 30, 63, 17]   \n",
       "2  [30, 15, 17, 13, 20, 30]    [20, 2, 12, 15, 24, 17]   \n",
       "3   [55, 56, 2, 15, 98, 12]     [22, 78, 6, 1, 99, 19]   \n",
       "4  [75, 10, 50, 80, 45, 30]   [95, 75, 99, 40, 70, 50]   \n",
       "\n",
       "                    neut_l                    neut_r  \n",
       "0   [15, 6, 3, 30, 40, 10]   [24, 2, 15, 10, 15, 30]  \n",
       "1  [80, 1, 85, 25, 72, 88]  [45, 85, 70, 60, 41, 36]  \n",
       "2   [80, 7, 16, 10, 15, 5]    [57, 13, 18, 12, 7, 3]  \n",
       "3  [33, 89, 3, 100, 97, 1]   [66, 34, 1, 85, 96, 94]  \n",
       "4   [23, 85, 0, 0, 30, 85]   [15, 50, 70, 5, 15, 65]  "
      ]
     },
     "execution_count": 28,
     "metadata": {},
     "output_type": "execute_result"
    }
   ],
   "source": [
    "d2.head()"
   ]
  },
  {
   "cell_type": "code",
   "execution_count": null,
   "metadata": {
    "collapsed": false
   },
   "outputs": [],
   "source": [
    "# writing means of each condition (comp_l... etc):\n",
    "\n",
    "for c in d2.columns:\n",
    "    for i in d2.index:\n",
    "        d2.loc[i, c] = np.mean(d2.loc[i, c])"
   ]
  },
  {
   "cell_type": "code",
   "execution_count": null,
   "metadata": {
    "collapsed": false
   },
   "outputs": [],
   "source": [
    "# means of conditions of both hands:\n",
    "\n",
    "for c in d2.columns:\n",
    "    for i in d2.index:\n",
    "        d2.loc[i, 'comp'] = (d2.loc[i, 'comp_l']+d2.loc[i, 'comp_r'])/2\n",
    "        d2.loc[i, 'incomp'] = (d2.loc[i, 'incomp_l']+d2.loc[i, 'incomp_r'])/2\n",
    "        d2.loc[i, 'neut'] = (d2.loc[i, 'neut_l']+d2.loc[i, 'neut_r'])/2"
   ]
  },
  {
   "cell_type": "code",
   "execution_count": null,
   "metadata": {
    "collapsed": false
   },
   "outputs": [],
   "source": [
    "d2.index = subj_num\n",
    "for i in d2.index:\n",
    "    if is_odd(i):\n",
    "        d2.loc[i, 'condition'] = 'info'\n",
    "    else:\n",
    "        d2.loc[i, 'condition'] = 'noinfo'"
   ]
  },
  {
   "cell_type": "code",
   "execution_count": null,
   "metadata": {
    "collapsed": true
   },
   "outputs": [],
   "source": [
    "d2 = d2.loc[np.sort(d2.index), :]\n",
    "d2.to_excel('BAZA_NONSTAND.xlsx')"
   ]
  },
  {
   "cell_type": "code",
   "execution_count": null,
   "metadata": {
    "collapsed": false
   },
   "outputs": [],
   "source": [
    "def get_zscores(df):\n",
    "    inf = sp.get_color_info(df)\n",
    "    newdf = pd.DataFrame(inf)\n",
    "    all_ratings = newdf.values.ravel()\n",
    "    df_zscore = newdf.copy()\n",
    "    df_zscore.loc[:, :] = stats.zscore(all_ratings).reshape(newdf.shape)\n",
    "    return df_zscore.mean()"
   ]
  },
  {
   "cell_type": "code",
   "execution_count": null,
   "metadata": {
    "collapsed": false
   },
   "outputs": [],
   "source": [
    "d1 = pd.DataFrame()\n",
    "subj_num = []\n",
    "for f in glob.glob('*.txt'):\n",
    "    subj_num.append(int(f.split('.')[0][1:]))\n",
    "    df = pd.read_csv(f, sep='\\t')\n",
    "    print('read {}!'.format(f))\n",
    "    db = get_zscores(df)\n",
    "    d1 = d1.append(db, ignore_index=True)"
   ]
  },
  {
   "cell_type": "code",
   "execution_count": null,
   "metadata": {
    "collapsed": true
   },
   "outputs": [],
   "source": [
    "for c in d1.columns:\n",
    "    for i in d1.index:\n",
    "        d1.loc[i, 'comp'] = (d1.loc[i, 'comp_l']+d1.loc[i, 'comp_r'])/2\n",
    "        d1.loc[i, 'incomp'] = (d1.loc[i, 'incomp_l']+d1.loc[i, 'incomp_r'])/2\n",
    "        d1.loc[i, 'neut'] = (d1.loc[i, 'neut_l']+d1.loc[i, 'neut_r'])/2"
   ]
  },
  {
   "cell_type": "code",
   "execution_count": null,
   "metadata": {
    "collapsed": false
   },
   "outputs": [],
   "source": [
    "d1.index = subj_num\n",
    "for i in d1.index:\n",
    "    if is_odd(i):\n",
    "        d1.loc[i, 'condition'] = 'info'\n",
    "    else:\n",
    "        d1.loc[i, 'condition'] = 'noinfo'"
   ]
  },
  {
   "cell_type": "code",
   "execution_count": null,
   "metadata": {
    "collapsed": false
   },
   "outputs": [],
   "source": [
    "d1 = d1.loc[np.sort(d1.index), :]\n",
    "d1.to_excel('BAZA_STANDARYZOWANA.xlsx')"
   ]
  }
 ],
 "metadata": {
  "kernelspec": {
   "display_name": "Python 3",
   "language": "python",
   "name": "python3"
  },
  "language_info": {
   "codemirror_mode": {
    "name": "ipython",
    "version": 3
   },
   "file_extension": ".py",
   "mimetype": "text/x-python",
   "name": "python",
   "nbconvert_exporter": "python",
   "pygments_lexer": "ipython3",
   "version": "3.4.3"
  }
 },
 "nbformat": 4,
 "nbformat_minor": 0
}
