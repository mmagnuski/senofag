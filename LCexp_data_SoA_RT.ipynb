{
 "cells": [
  {
   "cell_type": "code",
   "execution_count": 11,
   "metadata": {
    "collapsed": false
   },
   "outputs": [],
   "source": [
    "import numpy as np\n",
    "import pandas as pd\n",
    "import os\n",
    "import glob\n",
    "import superskrypt as sp\n",
    "from scipy import stats"
   ]
  },
  {
   "cell_type": "code",
   "execution_count": 3,
   "metadata": {
    "collapsed": false
   },
   "outputs": [
    {
     "name": "stdout",
     "output_type": "stream",
     "text": [
      "C:\\Users\\LEON-NETB\\Dropbox\\LEON_CIECHANOWSKI\\DANE\n"
     ]
    }
   ],
   "source": [
    "PTH = r\"C:\\Users\\LEON-NETB\\Dropbox\\LEON_CIECHANOWSKI\\DANE\"\n",
    "os.chdir(PTH)\n",
    "print(os.getcwd())"
   ]
  },
  {
   "cell_type": "code",
   "execution_count": 4,
   "metadata": {
    "collapsed": true
   },
   "outputs": [],
   "source": [
    "def is_odd(num):\n",
    "    return num % 2"
   ]
  },
  {
   "cell_type": "code",
   "execution_count": 5,
   "metadata": {
    "collapsed": false,
    "scrolled": true
   },
   "outputs": [],
   "source": [
    "df = \"s1.txt\"\n",
    "df = pd.read_csv(df, sep='\\t')\n",
    "df = pd.DataFrame(df)"
   ]
  },
  {
   "cell_type": "code",
   "execution_count": 6,
   "metadata": {
    "collapsed": false,
    "scrolled": false
   },
   "outputs": [],
   "source": [
    "rr = sp.all_colors(df)"
   ]
  },
  {
   "cell_type": "code",
   "execution_count": 7,
   "metadata": {
    "collapsed": true
   },
   "outputs": [],
   "source": [
    "cols = ['Block', 'Effect', 'Prime', 'Target', 'TargetSlide.RESP', 'TrialType', 'TargetSlide.RT', 'Condition']\n",
    "rt = df.loc[:, cols]\n",
    "def get_first_char(x):\n",
    "    if not pd.isnull(x):\n",
    "        return x.split('_')[1][0]\n",
    "\n",
    "for i in rt.index:\n",
    "    rt.loc[i, 'Effect'] = get_first_char(rt.loc[i, 'Effect'])"
   ]
  },
  {
   "cell_type": "code",
   "execution_count": 8,
   "metadata": {
    "collapsed": false
   },
   "outputs": [
    {
     "name": "stderr",
     "output_type": "stream",
     "text": [
      "D:\\Miniconda3\\envs\\py3\\lib\\site-packages\\pandas\\core\\indexing.py:415: SettingWithCopyWarning: \n",
      "A value is trying to be set on a copy of a slice from a DataFrame.\n",
      "Try using .loc[row_indexer,col_indexer] = value instead\n",
      "\n",
      "See the the caveats in the documentation: http://pandas.pydata.org/pandas-docs/stable/indexing.html#indexing-view-versus-copy\n",
      "  self.obj[item] = s\n"
     ]
    }
   ],
   "source": [
    "ind = rt.loc[:, 'Effect'].isnull()\n",
    "dff = rt.loc[~ind, :]\n",
    "\n",
    "mapping = {'l' : 'r', 'd' : 'l'}\n",
    "def use_map(x, mp = mapping):\n",
    "    return mp[x]\n",
    "\n",
    "dff.loc[:, 'TargetSlide.RESP'] = dff.loc[:, 'TargetSlide.RESP'].map(use_map)\n",
    "dff.reset_index(inplace=True, drop=True)"
   ]
  },
  {
   "cell_type": "code",
   "execution_count": 9,
   "metadata": {
    "collapsed": false,
    "scrolled": true
   },
   "outputs": [
    {
     "name": "stderr",
     "output_type": "stream",
     "text": [
      "D:\\Miniconda3\\envs\\py3\\lib\\site-packages\\pandas\\core\\indexing.py:415: SettingWithCopyWarning: \n",
      "A value is trying to be set on a copy of a slice from a DataFrame.\n",
      "Try using .loc[row_indexer,col_indexer] = value instead\n",
      "\n",
      "See the the caveats in the documentation: http://pandas.pydata.org/pandas-docs/stable/indexing.html#indexing-view-versus-copy\n",
      "  self.obj[item] = s\n"
     ]
    },
    {
     "data": {
      "text/html": [
       "<div>\n",
       "<table border=\"1\" class=\"dataframe\">\n",
       "  <thead>\n",
       "    <tr style=\"text-align: right;\">\n",
       "      <th></th>\n",
       "      <th>Block</th>\n",
       "      <th>Effect</th>\n",
       "      <th>Prime</th>\n",
       "      <th>Target</th>\n",
       "      <th>TargetSlide.RESP</th>\n",
       "      <th>TrialType</th>\n",
       "      <th>TargetSlide.RT</th>\n",
       "      <th>Condition</th>\n",
       "    </tr>\n",
       "  </thead>\n",
       "  <tbody>\n",
       "    <tr>\n",
       "      <th>0</th>\n",
       "      <td>3</td>\n",
       "      <td>y</td>\n",
       "      <td>prime_right.png</td>\n",
       "      <td>target_right.png</td>\n",
       "      <td>r</td>\n",
       "      <td>comp</td>\n",
       "      <td>556</td>\n",
       "      <td>comp_r</td>\n",
       "    </tr>\n",
       "    <tr>\n",
       "      <th>1</th>\n",
       "      <td>3</td>\n",
       "      <td>g</td>\n",
       "      <td>prime_left.png</td>\n",
       "      <td>target_left.png</td>\n",
       "      <td>l</td>\n",
       "      <td>neut</td>\n",
       "      <td>350</td>\n",
       "      <td>neut_l</td>\n",
       "    </tr>\n",
       "    <tr>\n",
       "      <th>2</th>\n",
       "      <td>3</td>\n",
       "      <td>p</td>\n",
       "      <td>prime_left.png</td>\n",
       "      <td>target_right.png</td>\n",
       "      <td>r</td>\n",
       "      <td>incomp</td>\n",
       "      <td>514</td>\n",
       "      <td>incomp_r</td>\n",
       "    </tr>\n",
       "    <tr>\n",
       "      <th>3</th>\n",
       "      <td>3</td>\n",
       "      <td>o</td>\n",
       "      <td>prime_right.png</td>\n",
       "      <td>target_left.png</td>\n",
       "      <td>l</td>\n",
       "      <td>incomp</td>\n",
       "      <td>424</td>\n",
       "      <td>incomp_l</td>\n",
       "    </tr>\n",
       "    <tr>\n",
       "      <th>4</th>\n",
       "      <td>3</td>\n",
       "      <td>b</td>\n",
       "      <td>prime_right.png</td>\n",
       "      <td>target_right.png</td>\n",
       "      <td>r</td>\n",
       "      <td>neut</td>\n",
       "      <td>417</td>\n",
       "      <td>neut_r</td>\n",
       "    </tr>\n",
       "  </tbody>\n",
       "</table>\n",
       "</div>"
      ],
      "text/plain": [
       "   Block Effect            Prime            Target TargetSlide.RESP TrialType  \\\n",
       "0      3      y  prime_right.png  target_right.png                r      comp   \n",
       "1      3      g   prime_left.png   target_left.png                l      neut   \n",
       "2      3      p   prime_left.png  target_right.png                r    incomp   \n",
       "3      3      o  prime_right.png   target_left.png                l    incomp   \n",
       "4      3      b  prime_right.png  target_right.png                r      neut   \n",
       "\n",
       "   TargetSlide.RT Condition  \n",
       "0             556    comp_r  \n",
       "1             350    neut_l  \n",
       "2             514  incomp_r  \n",
       "3             424  incomp_l  \n",
       "4             417    neut_r  "
      ]
     },
     "execution_count": 9,
     "metadata": {},
     "output_type": "execute_result"
    }
   ],
   "source": [
    "\n",
    "for block in dff.Block.unique():\n",
    "    mapping = rr[block]\n",
    "    block_df = dff.query('Block == {}'.format(block))\n",
    "    all_colors = dff.Effect.unique()\n",
    "    for c in all_colors:\n",
    "        ind = block_df.Effect == c\n",
    "        block_df.loc[ind, 'Condition'] = mapping[c]\n",
    "        dff.loc[dff['Block'] == block, 'Condition'] = block_df.loc[block_df['Block'] == block, 'Condition']\n",
    "dff.head()"
   ]
  },
  {
   "cell_type": "code",
   "execution_count": 22,
   "metadata": {
    "collapsed": false
   },
   "outputs": [
    {
     "name": "stderr",
     "output_type": "stream",
     "text": [
      "D:\\Miniconda3\\envs\\py3\\lib\\site-packages\\IPython\\kernel\\__main__.py:3: SettingWithCopyWarning: \n",
      "A value is trying to be set on a copy of a slice from a DataFrame\n",
      "\n",
      "See the the caveats in the documentation: http://pandas.pydata.org/pandas-docs/stable/indexing.html#indexing-view-versus-copy\n",
      "  app.launch_new_instance()\n"
     ]
    },
    {
     "data": {
      "text/html": [
       "<div>\n",
       "<table border=\"1\" class=\"dataframe\">\n",
       "  <thead>\n",
       "    <tr style=\"text-align: right;\">\n",
       "      <th></th>\n",
       "      <th>Block</th>\n",
       "      <th>Effect</th>\n",
       "      <th>Prime</th>\n",
       "      <th>Target</th>\n",
       "      <th>TargetSlide.RESP</th>\n",
       "      <th>TrialType</th>\n",
       "      <th>TargetSlide.RT</th>\n",
       "      <th>Condition</th>\n",
       "    </tr>\n",
       "  </thead>\n",
       "  <tbody>\n",
       "    <tr>\n",
       "      <th>0</th>\n",
       "      <td>3</td>\n",
       "      <td>y</td>\n",
       "      <td>prime_right.png</td>\n",
       "      <td>target_right.png</td>\n",
       "      <td>r</td>\n",
       "      <td>comp</td>\n",
       "      <td>556</td>\n",
       "      <td>comp_r</td>\n",
       "    </tr>\n",
       "    <tr>\n",
       "      <th>1</th>\n",
       "      <td>3</td>\n",
       "      <td>g</td>\n",
       "      <td>prime_left.png</td>\n",
       "      <td>target_left.png</td>\n",
       "      <td>l</td>\n",
       "      <td>neut</td>\n",
       "      <td>350</td>\n",
       "      <td>neut_l</td>\n",
       "    </tr>\n",
       "    <tr>\n",
       "      <th>2</th>\n",
       "      <td>3</td>\n",
       "      <td>p</td>\n",
       "      <td>prime_left.png</td>\n",
       "      <td>target_right.png</td>\n",
       "      <td>r</td>\n",
       "      <td>incomp</td>\n",
       "      <td>514</td>\n",
       "      <td>incomp_r</td>\n",
       "    </tr>\n",
       "    <tr>\n",
       "      <th>3</th>\n",
       "      <td>3</td>\n",
       "      <td>o</td>\n",
       "      <td>prime_right.png</td>\n",
       "      <td>target_left.png</td>\n",
       "      <td>l</td>\n",
       "      <td>incomp</td>\n",
       "      <td>424</td>\n",
       "      <td>incomp_l</td>\n",
       "    </tr>\n",
       "    <tr>\n",
       "      <th>4</th>\n",
       "      <td>3</td>\n",
       "      <td>b</td>\n",
       "      <td>prime_right.png</td>\n",
       "      <td>target_right.png</td>\n",
       "      <td>r</td>\n",
       "      <td>neut</td>\n",
       "      <td>417</td>\n",
       "      <td>neut_r</td>\n",
       "    </tr>\n",
       "  </tbody>\n",
       "</table>\n",
       "</div>"
      ],
      "text/plain": [
       "   Block Effect            Prime            Target TargetSlide.RESP TrialType  \\\n",
       "0      3      y  prime_right.png  target_right.png                r      comp   \n",
       "1      3      g   prime_left.png   target_left.png                l      neut   \n",
       "2      3      p   prime_left.png  target_right.png                r    incomp   \n",
       "3      3      o  prime_right.png   target_left.png                l    incomp   \n",
       "4      3      b  prime_right.png  target_right.png                r      neut   \n",
       "\n",
       "   TargetSlide.RT Condition  \n",
       "0             556    comp_r  \n",
       "1             350    neut_l  \n",
       "2             514  incomp_r  \n",
       "3             424  incomp_l  \n",
       "4             417    neut_r  "
      ]
     },
     "execution_count": 22,
     "metadata": {},
     "output_type": "execute_result"
    }
   ],
   "source": [
    "cond_list = ['comp_r', 'comp_l', 'incomp_r', 'incomp_l', 'neut_r', 'neut_l']\n",
    "for item in cond_list:\n",
    "    dff.loc['{}'.format(item+'_RT')] = np.mean(dff.loc[dff['Condition'] == item, 'TargetSlide.RT'])\n",
    "dff.head()    \n",
    "    #print(item +'_RT', ' = ', np.mean(dff.loc[dff['Condition'] == item, 'TargetSlide.RT']))"
   ]
  },
  {
   "cell_type": "code",
   "execution_count": 21,
   "metadata": {
    "collapsed": true
   },
   "outputs": [
    {
     "name": "stdout",
     "output_type": "stream",
     "text": [
      "read s1.txt!\n",
      "read s11.txt!\n",
      "read s13.txt!\n",
      "read s15.txt!\n",
      "read s18.txt!\n",
      "read s19.txt!\n",
      "read s2.txt!\n",
      "read s20.txt!\n",
      "read s21.txt!\n",
      "read s22.txt!\n",
      "read s24.txt!\n",
      "read s25.txt!\n",
      "read s26.txt!\n",
      "read s27.txt!\n",
      "read s28.txt!\n",
      "read s29.txt!\n",
      "read s30.txt!\n",
      "read s32.txt!\n",
      "read s33.txt!\n",
      "read s34.txt!\n",
      "read s35.txt!\n",
      "read s36.txt!\n",
      "read s37.txt!\n",
      "read s38.txt!\n",
      "read s39.txt!\n",
      "read s4.txt!\n",
      "read s41.txt!\n",
      "read s5.txt!\n",
      "read s6.txt!\n",
      "read s7.txt!\n",
      "read s8.txt!\n",
      "read s9.txt!\n"
     ]
    }
   ],
   "source": [
    "d2 = pd.DataFrame()\n",
    "subj_num = []\n",
    "for f in glob.glob('*.txt'):\n",
    "    subj_num.append(int(f.split('.')[0][1:]))\n",
    "    df = pd.read_csv(f, sep='\\t')\n",
    "    print('read {}!'.format(f))\n",
    "    db = sp.get_color_info(df)\n",
    "    d2 = d2.append(db, ignore_index=True)\n",
    "print('Done!')"
   ]
  },
  {
   "cell_type": "code",
   "execution_count": 28,
   "metadata": {
    "collapsed": false
   },
   "outputs": [
    {
     "data": {
      "text/html": [
       "<div>\n",
       "<table border=\"1\" class=\"dataframe\">\n",
       "  <thead>\n",
       "    <tr style=\"text-align: right;\">\n",
       "      <th></th>\n",
       "      <th>comp_l</th>\n",
       "      <th>comp_r</th>\n",
       "      <th>incomp_l</th>\n",
       "      <th>incomp_r</th>\n",
       "      <th>neut_l</th>\n",
       "      <th>neut_r</th>\n",
       "    </tr>\n",
       "  </thead>\n",
       "  <tbody>\n",
       "    <tr>\n",
       "      <th>0</th>\n",
       "      <td>[23, 35, 10, 35, 10, 35]</td>\n",
       "      <td>[25, 4, 30, 6, 2, 6]</td>\n",
       "      <td>[20, 3, 2, 4, 30, 20]</td>\n",
       "      <td>[18, 50, 40, 15, 3, 4]</td>\n",
       "      <td>[15, 6, 3, 30, 40, 10]</td>\n",
       "      <td>[24, 2, 15, 10, 15, 30]</td>\n",
       "    </tr>\n",
       "    <tr>\n",
       "      <th>1</th>\n",
       "      <td>[11, 70, 35, 90, 24, 69]</td>\n",
       "      <td>[55, 100, 95, 40, 89, 28]</td>\n",
       "      <td>[25, 60, 50, 77, 15, 50]</td>\n",
       "      <td>[95, 25, 100, 30, 63, 17]</td>\n",
       "      <td>[80, 1, 85, 25, 72, 88]</td>\n",
       "      <td>[45, 85, 70, 60, 41, 36]</td>\n",
       "    </tr>\n",
       "    <tr>\n",
       "      <th>2</th>\n",
       "      <td>[40, 10, 15, 7, 17, 10]</td>\n",
       "      <td>[50, 20, 7, 4, 3, 25]</td>\n",
       "      <td>[30, 15, 17, 13, 20, 30]</td>\n",
       "      <td>[20, 2, 12, 15, 24, 17]</td>\n",
       "      <td>[80, 7, 16, 10, 15, 5]</td>\n",
       "      <td>[57, 13, 18, 12, 7, 3]</td>\n",
       "    </tr>\n",
       "    <tr>\n",
       "      <th>3</th>\n",
       "      <td>[11, 45, 4, 60, 94, 15]</td>\n",
       "      <td>[44, 67, 5, 40, 95, 20]</td>\n",
       "      <td>[55, 56, 2, 15, 98, 12]</td>\n",
       "      <td>[22, 78, 6, 1, 99, 19]</td>\n",
       "      <td>[33, 89, 3, 100, 97, 1]</td>\n",
       "      <td>[66, 34, 1, 85, 96, 94]</td>\n",
       "    </tr>\n",
       "    <tr>\n",
       "      <th>4</th>\n",
       "      <td>[50, 25, 20, 60, 5, 80]</td>\n",
       "      <td>[36, 40, 12, 30, 95, 15]</td>\n",
       "      <td>[75, 10, 50, 80, 45, 30]</td>\n",
       "      <td>[95, 75, 99, 40, 70, 50]</td>\n",
       "      <td>[23, 85, 0, 0, 30, 85]</td>\n",
       "      <td>[15, 50, 70, 5, 15, 65]</td>\n",
       "    </tr>\n",
       "  </tbody>\n",
       "</table>\n",
       "</div>"
      ],
      "text/plain": [
       "                     comp_l                     comp_r  \\\n",
       "0  [23, 35, 10, 35, 10, 35]       [25, 4, 30, 6, 2, 6]   \n",
       "1  [11, 70, 35, 90, 24, 69]  [55, 100, 95, 40, 89, 28]   \n",
       "2   [40, 10, 15, 7, 17, 10]      [50, 20, 7, 4, 3, 25]   \n",
       "3   [11, 45, 4, 60, 94, 15]    [44, 67, 5, 40, 95, 20]   \n",
       "4   [50, 25, 20, 60, 5, 80]   [36, 40, 12, 30, 95, 15]   \n",
       "\n",
       "                   incomp_l                   incomp_r  \\\n",
       "0     [20, 3, 2, 4, 30, 20]     [18, 50, 40, 15, 3, 4]   \n",
       "1  [25, 60, 50, 77, 15, 50]  [95, 25, 100, 30, 63, 17]   \n",
       "2  [30, 15, 17, 13, 20, 30]    [20, 2, 12, 15, 24, 17]   \n",
       "3   [55, 56, 2, 15, 98, 12]     [22, 78, 6, 1, 99, 19]   \n",
       "4  [75, 10, 50, 80, 45, 30]   [95, 75, 99, 40, 70, 50]   \n",
       "\n",
       "                    neut_l                    neut_r  \n",
       "0   [15, 6, 3, 30, 40, 10]   [24, 2, 15, 10, 15, 30]  \n",
       "1  [80, 1, 85, 25, 72, 88]  [45, 85, 70, 60, 41, 36]  \n",
       "2   [80, 7, 16, 10, 15, 5]    [57, 13, 18, 12, 7, 3]  \n",
       "3  [33, 89, 3, 100, 97, 1]   [66, 34, 1, 85, 96, 94]  \n",
       "4   [23, 85, 0, 0, 30, 85]   [15, 50, 70, 5, 15, 65]  "
      ]
     },
     "execution_count": 28,
     "metadata": {},
     "output_type": "execute_result"
    }
   ],
   "source": [
    "d2.head()"
   ]
  },
  {
   "cell_type": "code",
   "execution_count": null,
   "metadata": {
    "collapsed": false
   },
   "outputs": [],
   "source": [
    "for c in d2.columns:\n",
    "    for i in d2.index:\n",
    "        d2.loc[i, c] = np.mean(d2.loc[i, c])"
   ]
  },
  {
   "cell_type": "code",
   "execution_count": null,
   "metadata": {
    "collapsed": false
   },
   "outputs": [],
   "source": [
    "for c in d2.columns:\n",
    "    for i in d2.index:\n",
    "        d2.loc[i, 'comp'] = (d2.loc[i, 'comp_l']+d2.loc[i, 'comp_r'])/2\n",
    "        d2.loc[i, 'incomp'] = (d2.loc[i, 'incomp_l']+d2.loc[i, 'incomp_r'])/2\n",
    "        d2.loc[i, 'neut'] = (d2.loc[i, 'neut_l']+d2.loc[i, 'neut_r'])/2"
   ]
  },
  {
   "cell_type": "code",
   "execution_count": null,
   "metadata": {
    "collapsed": false
   },
   "outputs": [],
   "source": [
    "d2.index = subj_num\n",
    "for i in d2.index:\n",
    "    if is_odd(i):\n",
    "        d2.loc[i, 'condition'] = 'info'\n",
    "    else:\n",
    "        d2.loc[i, 'condition'] = 'noinfo'"
   ]
  },
  {
   "cell_type": "code",
   "execution_count": null,
   "metadata": {
    "collapsed": true
   },
   "outputs": [],
   "source": [
    "d2 = d2.loc[np.sort(d2.index), :]\n",
    "d2.to_excel('BAZA_NONSTAND.xlsx')"
   ]
  },
  {
   "cell_type": "code",
   "execution_count": null,
   "metadata": {
    "collapsed": false
   },
   "outputs": [],
   "source": [
    "def get_zscores(df):\n",
    "    inf = sp.get_color_info(df)\n",
    "    newdf = pd.DataFrame(inf)\n",
    "    all_ratings = newdf.values.ravel()\n",
    "    df_zscore = newdf.copy()\n",
    "    df_zscore.loc[:, :] = stats.zscore(all_ratings).reshape(newdf.shape)\n",
    "    return df_zscore.mean()"
   ]
  },
  {
   "cell_type": "code",
   "execution_count": null,
   "metadata": {
    "collapsed": false
   },
   "outputs": [],
   "source": [
    "d1 = pd.DataFrame()\n",
    "subj_num = []\n",
    "for f in glob.glob('*.txt'):\n",
    "    subj_num.append(int(f.split('.')[0][1:]))\n",
    "    df = pd.read_csv(f, sep='\\t')\n",
    "    print('read {}!'.format(f))\n",
    "    db = get_zscores(df)\n",
    "    d1 = d1.append(db, ignore_index=True)"
   ]
  },
  {
   "cell_type": "code",
   "execution_count": null,
   "metadata": {
    "collapsed": true
   },
   "outputs": [],
   "source": [
    "for c in d1.columns:\n",
    "    for i in d1.index:\n",
    "        d1.loc[i, 'comp'] = (d1.loc[i, 'comp_l']+d1.loc[i, 'comp_r'])/2\n",
    "        d1.loc[i, 'incomp'] = (d1.loc[i, 'incomp_l']+d1.loc[i, 'incomp_r'])/2\n",
    "        d1.loc[i, 'neut'] = (d1.loc[i, 'neut_l']+d1.loc[i, 'neut_r'])/2"
   ]
  },
  {
   "cell_type": "code",
   "execution_count": null,
   "metadata": {
    "collapsed": false
   },
   "outputs": [],
   "source": [
    "d1.index = subj_num\n",
    "for i in d1.index:\n",
    "    if is_odd(i):\n",
    "        d1.loc[i, 'condition'] = 'info'\n",
    "    else:\n",
    "        d1.loc[i, 'condition'] = 'noinfo'"
   ]
  },
  {
   "cell_type": "code",
   "execution_count": null,
   "metadata": {
    "collapsed": false
   },
   "outputs": [],
   "source": [
    "d1 = d1.loc[np.sort(d1.index), :]\n",
    "d1.to_excel('BAZA_STANDARYZOWANA.xlsx')"
   ]
  }
 ],
 "metadata": {
  "kernelspec": {
   "display_name": "Python 3",
   "language": "python",
   "name": "python3"
  },
  "language_info": {
   "codemirror_mode": {
    "name": "ipython",
    "version": 3
   },
   "file_extension": ".py",
   "mimetype": "text/x-python",
   "name": "python",
   "nbconvert_exporter": "python",
   "pygments_lexer": "ipython3",
   "version": "3.4.3"
  }
 },
 "nbformat": 4,
 "nbformat_minor": 0
}
