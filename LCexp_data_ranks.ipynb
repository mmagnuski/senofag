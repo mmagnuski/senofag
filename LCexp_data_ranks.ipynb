{
 "cells": [
  {
   "cell_type": "code",
   "execution_count": 10,
   "metadata": {
    "collapsed": false
   },
   "outputs": [],
   "source": [
    "import numpy as np\n",
    "import pandas as pd\n",
    "import os\n",
    "import glob\n",
    "import superskrypt_rangi as sp\n",
    "from scipy import stats"
   ]
  },
  {
   "cell_type": "code",
   "execution_count": 11,
   "metadata": {
    "collapsed": false
   },
   "outputs": [
    {
     "name": "stdout",
     "output_type": "stream",
     "text": [
      "C:\\Users\\LEON-NETB\\Dropbox\\LEON_CIECHANOWSKI\\DANE\n"
     ]
    }
   ],
   "source": [
    "PTH = r\"C:\\Users\\LEON-NETB\\Dropbox\\LEON_CIECHANOWSKI\\DANE\"\n",
    "os.chdir(PTH)\n",
    "print(os.getcwd())"
   ]
  },
  {
   "cell_type": "code",
   "execution_count": 12,
   "metadata": {
    "collapsed": false
   },
   "outputs": [
    {
     "name": "stdout",
     "output_type": "stream",
     "text": [
      "s1.txt\n",
      "s11.txt\n",
      "s13.txt\n",
      "s15.txt\n",
      "s18.txt\n",
      "s19.txt\n",
      "s2.txt\n",
      "s20.txt\n",
      "s21.txt\n",
      "s22.txt\n",
      "s24.txt\n",
      "s25.txt\n",
      "s26.txt\n",
      "s27.txt\n",
      "s28.txt\n",
      "s29.txt\n",
      "s30.txt\n",
      "s32.txt\n",
      "s33.txt\n",
      "s34.txt\n",
      "s35.txt\n",
      "s36.txt\n",
      "s37.txt\n",
      "s38.txt\n",
      "s39.txt\n",
      "s4.txt\n",
      "s41.txt\n",
      "s5.txt\n",
      "s6.txt\n",
      "s7.txt\n",
      "s8.txt\n",
      "s9.txt\n"
     ]
    }
   ],
   "source": [
    "for f in glob.glob('*.txt'):\n",
    "     print(f)"
   ]
  },
  {
   "cell_type": "code",
   "execution_count": 13,
   "metadata": {
    "collapsed": true
   },
   "outputs": [],
   "source": [
    "def is_odd(num):\n",
    "    return num % 2\n",
    "def ischar(x):\n",
    "    return isinstance(x, str)"
   ]
  },
  {
   "cell_type": "code",
   "execution_count": 14,
   "metadata": {
    "collapsed": false
   },
   "outputs": [
    {
     "name": "stdout",
     "output_type": "stream",
     "text": [
      "read s1.txt!\n",
      "read s11.txt!\n",
      "read s13.txt!\n",
      "read s15.txt!\n",
      "read s18.txt!\n",
      "read s19.txt!\n",
      "read s2.txt!\n",
      "read s20.txt!\n",
      "read s21.txt!\n",
      "read s22.txt!\n",
      "read s24.txt!\n",
      "read s25.txt!\n",
      "read s26.txt!\n",
      "read s27.txt!\n",
      "read s28.txt!\n",
      "read s29.txt!\n",
      "read s30.txt!\n",
      "read s32.txt!\n",
      "read s33.txt!\n",
      "read s34.txt!\n",
      "read s35.txt!\n",
      "read s36.txt!\n",
      "read s37.txt!\n",
      "read s38.txt!\n",
      "read s39.txt!\n",
      "read s4.txt!\n",
      "read s41.txt!\n",
      "read s5.txt!\n",
      "read s6.txt!\n",
      "read s7.txt!\n",
      "read s8.txt!\n",
      "read s9.txt!\n"
     ]
    }
   ],
   "source": [
    "d2 = pd.DataFrame()\n",
    "subj_num = []\n",
    "for f in glob.glob('*.txt'):\n",
    "    subj_num.append(int(f.split('.')[0][1:]))\n",
    "    df = pd.read_csv(f, sep='\\t')\n",
    "    print('read {}!'.format(f))\n",
    "    db = sp.get_color_info(df)\n",
    "    d2 = d2.append(db[1], ignore_index=True)"
   ]
  },
  {
   "cell_type": "code",
   "execution_count": 15,
   "metadata": {
    "collapsed": false
   },
   "outputs": [
    {
     "data": {
      "text/html": [
       "<div>\n",
       "<table border=\"1\" class=\"dataframe\">\n",
       "  <thead>\n",
       "    <tr style=\"text-align: right;\">\n",
       "      <th></th>\n",
       "      <th>comp_l</th>\n",
       "      <th>comp_r</th>\n",
       "      <th>incomp_l</th>\n",
       "      <th>incomp_r</th>\n",
       "      <th>neut_l</th>\n",
       "      <th>neut_r</th>\n",
       "    </tr>\n",
       "  </thead>\n",
       "  <tbody>\n",
       "    <tr>\n",
       "      <th>0</th>\n",
       "      <td>[3, 4, 2, 5, 2, 5]</td>\n",
       "      <td>[5, 2, 4, 1, 0, 1]</td>\n",
       "      <td>[2, 1, 0, 0, 4, 3]</td>\n",
       "      <td>[1, 5, 5, 3, 1, 0]</td>\n",
       "      <td>[0, 3, 1, 4, 5, 2]</td>\n",
       "      <td>[4, 0, 3, 2, 3, 4]</td>\n",
       "    </tr>\n",
       "    <tr>\n",
       "      <th>1</th>\n",
       "      <td>[0, 3, 0, 5, 1, 4]</td>\n",
       "      <td>[3, 5, 4, 2, 5, 1]</td>\n",
       "      <td>[1, 2, 1, 4, 0, 3]</td>\n",
       "      <td>[5, 1, 5, 1, 3, 0]</td>\n",
       "      <td>[4, 0, 3, 0, 4, 5]</td>\n",
       "      <td>[2, 4, 2, 3, 2, 2]</td>\n",
       "    </tr>\n",
       "    <tr>\n",
       "      <th>2</th>\n",
       "      <td>[2, 2, 2, 1, 3, 2]</td>\n",
       "      <td>[3, 5, 0, 0, 0, 4]</td>\n",
       "      <td>[1, 4, 4, 4, 4, 5]</td>\n",
       "      <td>[0, 0, 1, 5, 5, 3]</td>\n",
       "      <td>[5, 1, 3, 2, 2, 1]</td>\n",
       "      <td>[4, 3, 5, 3, 1, 0]</td>\n",
       "    </tr>\n",
       "    <tr>\n",
       "      <th>3</th>\n",
       "      <td>[0, 1, 3, 3, 0, 2]</td>\n",
       "      <td>[3, 3, 4, 2, 1, 4]</td>\n",
       "      <td>[4, 2, 1, 1, 4, 1]</td>\n",
       "      <td>[1, 4, 5, 0, 5, 3]</td>\n",
       "      <td>[2, 5, 2, 5, 3, 0]</td>\n",
       "      <td>[5, 0, 0, 4, 2, 5]</td>\n",
       "    </tr>\n",
       "    <tr>\n",
       "      <th>4</th>\n",
       "      <td>[3, 1, 2, 4, 0, 4]</td>\n",
       "      <td>[2, 2, 1, 2, 5, 0]</td>\n",
       "      <td>[4, 0, 3, 5, 3, 1]</td>\n",
       "      <td>[5, 4, 5, 3, 4, 2]</td>\n",
       "      <td>[1, 5, 0, 0, 2, 5]</td>\n",
       "      <td>[0, 3, 4, 1, 1, 3]</td>\n",
       "    </tr>\n",
       "  </tbody>\n",
       "</table>\n",
       "</div>"
      ],
      "text/plain": [
       "               comp_l              comp_r            incomp_l  \\\n",
       "0  [3, 4, 2, 5, 2, 5]  [5, 2, 4, 1, 0, 1]  [2, 1, 0, 0, 4, 3]   \n",
       "1  [0, 3, 0, 5, 1, 4]  [3, 5, 4, 2, 5, 1]  [1, 2, 1, 4, 0, 3]   \n",
       "2  [2, 2, 2, 1, 3, 2]  [3, 5, 0, 0, 0, 4]  [1, 4, 4, 4, 4, 5]   \n",
       "3  [0, 1, 3, 3, 0, 2]  [3, 3, 4, 2, 1, 4]  [4, 2, 1, 1, 4, 1]   \n",
       "4  [3, 1, 2, 4, 0, 4]  [2, 2, 1, 2, 5, 0]  [4, 0, 3, 5, 3, 1]   \n",
       "\n",
       "             incomp_r              neut_l              neut_r  \n",
       "0  [1, 5, 5, 3, 1, 0]  [0, 3, 1, 4, 5, 2]  [4, 0, 3, 2, 3, 4]  \n",
       "1  [5, 1, 5, 1, 3, 0]  [4, 0, 3, 0, 4, 5]  [2, 4, 2, 3, 2, 2]  \n",
       "2  [0, 0, 1, 5, 5, 3]  [5, 1, 3, 2, 2, 1]  [4, 3, 5, 3, 1, 0]  \n",
       "3  [1, 4, 5, 0, 5, 3]  [2, 5, 2, 5, 3, 0]  [5, 0, 0, 4, 2, 5]  \n",
       "4  [5, 4, 5, 3, 4, 2]  [1, 5, 0, 0, 2, 5]  [0, 3, 4, 1, 1, 3]  "
      ]
     },
     "execution_count": 15,
     "metadata": {},
     "output_type": "execute_result"
    }
   ],
   "source": [
    "d2.head()"
   ]
  },
  {
   "cell_type": "code",
   "execution_count": 16,
   "metadata": {
    "collapsed": false
   },
   "outputs": [],
   "source": [
    "for c in d2.columns:\n",
    "    for i in d2.index:\n",
    "        d2.loc[i, c] = np.median(d2.loc[i, c])"
   ]
  },
  {
   "cell_type": "code",
   "execution_count": 17,
   "metadata": {
    "collapsed": false
   },
   "outputs": [],
   "source": [
    "for c in d2.columns:\n",
    "    for i in d2.index:\n",
    "        d2.loc[i, 'comp'] = (d2.loc[i, 'comp_l']+d2.loc[i, 'comp_r'])/2\n",
    "        d2.loc[i, 'incomp'] = (d2.loc[i, 'incomp_l']+d2.loc[i, 'incomp_r'])/2\n",
    "        d2.loc[i, 'neut'] = (d2.loc[i, 'neut_l']+d2.loc[i, 'neut_r'])/2"
   ]
  },
  {
   "cell_type": "code",
   "execution_count": 20,
   "metadata": {
    "collapsed": false
   },
   "outputs": [],
   "source": [
    "d2.index = subj_num\n",
    "for i in d2.index:\n",
    "    if is_odd(i):\n",
    "        d2.loc[i, 'condition'] = 'info'\n",
    "    else:\n",
    "        d2.loc[i, 'condition'] = 'noinfo'"
   ]
  },
  {
   "cell_type": "code",
   "execution_count": 21,
   "metadata": {
    "collapsed": false
   },
   "outputs": [],
   "source": [
    "d2 = d2.loc[np.sort(d2.index), :]\n",
    "d2.to_excel('BAZA_RANGI.xlsx')"
   ]
  }
 ],
 "metadata": {
  "kernelspec": {
   "display_name": "Python 3",
   "language": "python",
   "name": "python3"
  },
  "language_info": {
   "codemirror_mode": {
    "name": "ipython",
    "version": 3
   },
   "file_extension": ".py",
   "mimetype": "text/x-python",
   "name": "python",
   "nbconvert_exporter": "python",
   "pygments_lexer": "ipython3",
   "version": "3.4.3"
  }
 },
 "nbformat": 4,
 "nbformat_minor": 0
}
