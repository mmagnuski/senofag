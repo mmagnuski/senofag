{
 "cells": [
  {
   "cell_type": "code",
   "execution_count": 1,
   "metadata": {
    "collapsed": false
   },
   "outputs": [],
   "source": [
    "import numpy as np\n",
    "import pandas as pd\n",
    "import os\n",
    "import glob\n",
    "import superskrypt as sp\n",
    "from scipy import stats"
   ]
  },
  {
   "cell_type": "code",
   "execution_count": 2,
   "metadata": {
    "collapsed": false
   },
   "outputs": [
    {
     "name": "stdout",
     "output_type": "stream",
     "text": [
      "C:\\Users\\LEON-NETB\\Dropbox\\LEON_CIECHANOWSKI\\DANE_EEG\n"
     ]
    }
   ],
   "source": [
    "PTH = r\"C:\\Users\\LEON-NETB\\Dropbox\\LEON_CIECHANOWSKI\\DANE_EEG\"\n",
    "os.chdir(PTH)\n",
    "print(os.getcwd())"
   ]
  },
  {
   "cell_type": "code",
   "execution_count": 3,
   "metadata": {
    "collapsed": true
   },
   "outputs": [],
   "source": [
    "#for f in glob.glob('*.txt'):\n",
    "#     print(f)"
   ]
  },
  {
   "cell_type": "code",
   "execution_count": 4,
   "metadata": {
    "collapsed": true
   },
   "outputs": [],
   "source": [
    "def is_odd(num):\n",
    "    return num % 2"
   ]
  },
  {
   "cell_type": "code",
   "execution_count": 5,
   "metadata": {
    "collapsed": false
   },
   "outputs": [
    {
     "name": "stdout",
     "output_type": "stream",
     "text": [
      "read s2.txt!\n",
      "DONE!\n"
     ]
    },
    {
     "name": "stderr",
     "output_type": "stream",
     "text": [
      "D:\\Miniconda3\\envs\\py3\\lib\\site-packages\\pandas\\core\\indexing.py:415: SettingWithCopyWarning: \n",
      "A value is trying to be set on a copy of a slice from a DataFrame.\n",
      "Try using .loc[row_indexer,col_indexer] = value instead\n",
      "\n",
      "See the the caveats in the documentation: http://pandas.pydata.org/pandas-docs/stable/indexing.html#indexing-view-versus-copy\n",
      "  self.obj[item] = s\n"
     ]
    }
   ],
   "source": [
    "# counts SoA and RT for all subjects and concatenates them in a DataFrame \n",
    "\n",
    "db_ALL = pd.DataFrame()\n",
    "d2_all = pd.DataFrame()\n",
    "subj_num = []\n",
    "for f in glob.glob('*.txt'):\n",
    "    subj_num.append(int(f.split('.')[0][1:]))\n",
    "    df = pd.read_csv(f, sep='\\t')\n",
    "    print('read {}!'.format(f))\n",
    "    db_SoA = sp.get_color_info(df)\n",
    "    db_RT = sp.get_RT(df)\n",
    "    db_ALL = db_ALL.append(db_SoA, ignore_index=True)\n",
    "    for col in db_RT.columns:\n",
    "        db_ALL.loc[0, '{}'.format(col)] = db_RT.loc[1, col]\n",
    "    d2_all = d2_all.append(db_SoA, ignore_index=True)\n",
    "print('DONE!')"
   ]
  },
  {
   "cell_type": "code",
   "execution_count": 7,
   "metadata": {
    "collapsed": false
   },
   "outputs": [],
   "source": [
    "# writing means of each condition (comp_l... etc):\n",
    "\n",
    "for c in db_ALL.columns:\n",
    "    for i in db_ALL.index:\n",
    "        db_ALL.loc[i, c] = np.mean(db_ALL.loc[i, c])"
   ]
  },
  {
   "cell_type": "code",
   "execution_count": 8,
   "metadata": {
    "collapsed": false
   },
   "outputs": [],
   "source": [
    "# means of conditions of both hands:\n",
    "\n",
    "for c in db_ALL.columns:\n",
    "    for i in db_ALL.index:\n",
    "        db_ALL.loc[i, 'comp'] = (db_ALL.loc[i, 'comp_l']+db_ALL.loc[i, 'comp_r'])/2\n",
    "        db_ALL.loc[i, 'incomp'] = (db_ALL.loc[i, 'incomp_l']+db_ALL.loc[i, 'incomp_r'])/2\n",
    "        db_ALL.loc[i, 'neut'] = (db_ALL.loc[i, 'neut_l']+db_ALL.loc[i, 'neut_r'])/2"
   ]
  },
  {
   "cell_type": "code",
   "execution_count": 9,
   "metadata": {
    "collapsed": false
   },
   "outputs": [],
   "source": [
    "db_ALL.index = subj_num\n",
    "for i in db_ALL.index:\n",
    "    if is_odd(i):\n",
    "        db_ALL.loc[i, 'condition'] = 'info'\n",
    "    else:\n",
    "        db_ALL.loc[i, 'condition'] = 'noinfo'"
   ]
  },
  {
   "cell_type": "code",
   "execution_count": 10,
   "metadata": {
    "collapsed": false
   },
   "outputs": [],
   "source": [
    "# Derives all SoA for each codition (comp/neut/incomp), \n",
    "# each hand (l/r) and each block (1-6) separately\n",
    "# and makes a separate column for them\n",
    "\n",
    "for col in d2_all.columns:\n",
    "    for i in range(0,6):\n",
    "        db_ALL.loc[:, '{}_{}'.format(col, i+1)] = d2_all.loc[0, col][i]"
   ]
  },
  {
   "cell_type": "code",
   "execution_count": 13,
   "metadata": {
    "collapsed": false
   },
   "outputs": [],
   "source": [
    "db_ALL = db_ALL.loc[np.sort(db_ALL.index), :]\n",
    "db_ALL.to_excel('SoA_EEG.xlsx')"
   ]
  }
 ],
 "metadata": {
  "kernelspec": {
   "display_name": "Python 3",
   "language": "python",
   "name": "python3"
  },
  "language_info": {
   "codemirror_mode": {
    "name": "ipython",
    "version": 3
   },
   "file_extension": ".py",
   "mimetype": "text/x-python",
   "name": "python",
   "nbconvert_exporter": "python",
   "pygments_lexer": "ipython3",
   "version": "3.4.3"
  }
 },
 "nbformat": 4,
 "nbformat_minor": 0
}
