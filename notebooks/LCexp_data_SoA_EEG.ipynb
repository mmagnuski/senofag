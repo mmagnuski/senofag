{
 "cells": [
  {
   "cell_type": "code",
   "execution_count": 1,
   "metadata": {
    "collapsed": false
   },
   "outputs": [],
   "source": [
    "import numpy as np\n",
    "import pandas as pd\n",
    "import os\n",
    "import glob\n",
    "import superskrypt as sp\n",
    "from scipy import stats"
   ]
  },
  {
   "cell_type": "code",
   "execution_count": 2,
   "metadata": {
    "collapsed": false
   },
   "outputs": [
    {
     "name": "stdout",
     "output_type": "stream",
     "text": [
      "C:\\Users\\LEON-NETB\\Dropbox\\LEON_CIECHANOWSKI\\DANE_EEG\n"
     ]
    }
   ],
   "source": [
    "PTH = r\"C:\\Users\\LEON-NETB\\Dropbox\\LEON_CIECHANOWSKI\\DANE_EEG\"\n",
    "os.chdir(PTH)\n",
    "print(os.getcwd())"
   ]
  },
  {
   "cell_type": "code",
   "execution_count": 3,
   "metadata": {
    "collapsed": true
   },
   "outputs": [],
   "source": [
    "#for f in glob.glob('*.txt'):\n",
    "#     print(f)"
   ]
  },
  {
   "cell_type": "code",
   "execution_count": 4,
   "metadata": {
    "collapsed": true
   },
   "outputs": [],
   "source": [
    "def is_odd(num):\n",
    "    return num % 2"
   ]
  },
  {
   "cell_type": "code",
   "execution_count": 96,
   "metadata": {
    "collapsed": false
   },
   "outputs": [
    {
     "name": "stdout",
     "output_type": "stream",
     "text": [
      "read s1.txt!\n",
      "read s2.txt!\n",
      "DONE!\n"
     ]
    }
   ],
   "source": [
    "d2 = pd.DataFrame()\n",
    "d_all = pd.DataFrame()\n",
    "subj_num = []\n",
    "for f in glob.glob('*.txt'):\n",
    "    subj_num.append(int(f.split('.')[0][1:]))\n",
    "    df = pd.read_csv(f, sep='\\t')\n",
    "    print('read {}!'.format(f))\n",
    "    db = sp.get_color_info(df)\n",
    "    d2 = d2.append(db, ignore_index=True)\n",
    "    d_all = d_all.append(db, ignore_index=True)\n",
    "print('DONE!')"
   ]
  },
  {
   "cell_type": "code",
   "execution_count": 97,
   "metadata": {
    "collapsed": false
   },
   "outputs": [],
   "source": [
    "for c in d2.columns:\n",
    "    for i in d2.index:\n",
    "        d2.loc[i, c] = np.mean(d2.loc[i, c])"
   ]
  },
  {
   "cell_type": "code",
   "execution_count": 98,
   "metadata": {
    "collapsed": false
   },
   "outputs": [],
   "source": [
    "for c in d2.columns:\n",
    "    for i in d2.index:\n",
    "        d2.loc[i, 'comp'] = (d2.loc[i, 'comp_l']+d2.loc[i, 'comp_r'])/2\n",
    "        d2.loc[i, 'incomp'] = (d2.loc[i, 'incomp_l']+d2.loc[i, 'incomp_r'])/2\n",
    "        d2.loc[i, 'neut'] = (d2.loc[i, 'neut_l']+d2.loc[i, 'neut_r'])/2"
   ]
  },
  {
   "cell_type": "code",
   "execution_count": 99,
   "metadata": {
    "collapsed": false
   },
   "outputs": [],
   "source": [
    "d2.index = subj_num\n",
    "for i in d2.index:\n",
    "    if is_odd(i):\n",
    "        d2.loc[i, 'condition'] = 'info'\n",
    "    else:\n",
    "        d2.loc[i, 'condition'] = 'noinfo'"
   ]
  },
  {
   "cell_type": "code",
   "execution_count": 100,
   "metadata": {
    "collapsed": false
   },
   "outputs": [],
   "source": [
    "# Derives all SoA for each codition (comp/neut/incomp), \n",
    "# each hand (l/r) and each block (1-6) separately\n",
    "# and makes a separate column for them\n",
    "\n",
    "for col in d_all.columns:\n",
    "    for i in range(0,6):\n",
    "        d2.loc[:, '{}_{}'.format(col, i+1)] = d_all.loc[0, col][i]"
   ]
  },
  {
   "cell_type": "code",
   "execution_count": 101,
   "metadata": {
    "collapsed": false
   },
   "outputs": [
    {
     "data": {
      "text/html": [
       "<div>\n",
       "<table border=\"1\" class=\"dataframe\">\n",
       "  <thead>\n",
       "    <tr style=\"text-align: right;\">\n",
       "      <th></th>\n",
       "      <th>comp_l</th>\n",
       "      <th>comp_r</th>\n",
       "      <th>incomp_l</th>\n",
       "      <th>incomp_r</th>\n",
       "      <th>neut_l</th>\n",
       "      <th>neut_r</th>\n",
       "      <th>comp</th>\n",
       "      <th>incomp</th>\n",
       "      <th>neut</th>\n",
       "      <th>condition</th>\n",
       "      <th>...</th>\n",
       "      <th>neut_l_3</th>\n",
       "      <th>neut_l_4</th>\n",
       "      <th>neut_l_5</th>\n",
       "      <th>neut_l_6</th>\n",
       "      <th>neut_r_1</th>\n",
       "      <th>neut_r_2</th>\n",
       "      <th>neut_r_3</th>\n",
       "      <th>neut_r_4</th>\n",
       "      <th>neut_r_5</th>\n",
       "      <th>neut_r_6</th>\n",
       "    </tr>\n",
       "  </thead>\n",
       "  <tbody>\n",
       "    <tr>\n",
       "      <th>1</th>\n",
       "      <td>59.83333</td>\n",
       "      <td>55.83333</td>\n",
       "      <td>50</td>\n",
       "      <td>56.66667</td>\n",
       "      <td>49.16667</td>\n",
       "      <td>67.5</td>\n",
       "      <td>57.833333</td>\n",
       "      <td>53.333333</td>\n",
       "      <td>58.333333</td>\n",
       "      <td>info</td>\n",
       "      <td>...</td>\n",
       "      <td>100</td>\n",
       "      <td>80</td>\n",
       "      <td>10</td>\n",
       "      <td>40</td>\n",
       "      <td>85</td>\n",
       "      <td>40</td>\n",
       "      <td>40</td>\n",
       "      <td>40</td>\n",
       "      <td>100</td>\n",
       "      <td>100</td>\n",
       "    </tr>\n",
       "    <tr>\n",
       "      <th>2</th>\n",
       "      <td>59.83333</td>\n",
       "      <td>55.83333</td>\n",
       "      <td>50</td>\n",
       "      <td>56.66667</td>\n",
       "      <td>49.16667</td>\n",
       "      <td>67.5</td>\n",
       "      <td>57.833333</td>\n",
       "      <td>53.333333</td>\n",
       "      <td>58.333333</td>\n",
       "      <td>noinfo</td>\n",
       "      <td>...</td>\n",
       "      <td>100</td>\n",
       "      <td>80</td>\n",
       "      <td>10</td>\n",
       "      <td>40</td>\n",
       "      <td>85</td>\n",
       "      <td>40</td>\n",
       "      <td>40</td>\n",
       "      <td>40</td>\n",
       "      <td>100</td>\n",
       "      <td>100</td>\n",
       "    </tr>\n",
       "  </tbody>\n",
       "</table>\n",
       "<p>2 rows × 46 columns</p>\n",
       "</div>"
      ],
      "text/plain": [
       "     comp_l    comp_r incomp_l  incomp_r    neut_l neut_r       comp  \\\n",
       "1  59.83333  55.83333       50  56.66667  49.16667   67.5  57.833333   \n",
       "2  59.83333  55.83333       50  56.66667  49.16667   67.5  57.833333   \n",
       "\n",
       "      incomp       neut condition    ...     neut_l_3  neut_l_4  neut_l_5  \\\n",
       "1  53.333333  58.333333      info    ...          100        80        10   \n",
       "2  53.333333  58.333333    noinfo    ...          100        80        10   \n",
       "\n",
       "   neut_l_6  neut_r_1  neut_r_2  neut_r_3  neut_r_4  neut_r_5  neut_r_6  \n",
       "1        40        85        40        40        40       100       100  \n",
       "2        40        85        40        40        40       100       100  \n",
       "\n",
       "[2 rows x 46 columns]"
      ]
     },
     "execution_count": 101,
     "metadata": {},
     "output_type": "execute_result"
    }
   ],
   "source": [
    "d2"
   ]
  },
  {
   "cell_type": "code",
   "execution_count": 94,
   "metadata": {
    "collapsed": true
   },
   "outputs": [],
   "source": [
    "d2 = d2.loc[np.sort(d2.index), :]\n",
    "d2.to_excel('SoA_EEG.xlsx')"
   ]
  }
 ],
 "metadata": {
  "kernelspec": {
   "display_name": "Python 3",
   "language": "python",
   "name": "python3"
  },
  "language_info": {
   "codemirror_mode": {
    "name": "ipython",
    "version": 3
   },
   "file_extension": ".py",
   "mimetype": "text/x-python",
   "name": "python",
   "nbconvert_exporter": "python",
   "pygments_lexer": "ipython3",
   "version": "3.4.3"
  }
 },
 "nbformat": 4,
 "nbformat_minor": 0
}
