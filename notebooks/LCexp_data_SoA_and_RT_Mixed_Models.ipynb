{
 "cells": [
  {
   "cell_type": "code",
   "execution_count": 73,
   "metadata": {
    "collapsed": false
   },
   "outputs": [],
   "source": [
    "import numpy as np\n",
    "import pandas as pd\n",
    "import os\n",
    "import glob\n",
    "import superskrypt as sp\n",
    "from scipy import stats"
   ]
  },
  {
   "cell_type": "code",
   "execution_count": 74,
   "metadata": {
    "collapsed": false
   },
   "outputs": [
    {
     "name": "stdout",
     "output_type": "stream",
     "text": [
      "C:\\Users\\LEON-NETB\\Dropbox\\LEON_CIECHANOWSKI\\DANE_MM\n"
     ]
    }
   ],
   "source": [
    "# DANE_MIXED_MODELS\n",
    "PTH = r\"C:\\Users\\LEON-NETB\\Dropbox\\LEON_CIECHANOWSKI\\DANE_MM\"\n",
    "os.chdir(PTH)\n",
    "print(os.getcwd())"
   ]
  },
  {
   "cell_type": "code",
   "execution_count": 75,
   "metadata": {
    "collapsed": true
   },
   "outputs": [],
   "source": [
    "def is_odd(num):\n",
    "    return num % 2"
   ]
  },
  {
   "cell_type": "code",
   "execution_count": 76,
   "metadata": {
    "collapsed": false
   },
   "outputs": [
    {
     "name": "stdout",
     "output_type": "stream",
     "text": [
      "read s1.txt!\n",
      "read s11.txt!\n",
      "read s2.txt!\n",
      "Done!\n"
     ]
    },
    {
     "name": "stderr",
     "output_type": "stream",
     "text": [
      "D:\\Miniconda3\\envs\\py3\\lib\\site-packages\\pandas\\core\\indexing.py:415: SettingWithCopyWarning: \n",
      "A value is trying to be set on a copy of a slice from a DataFrame.\n",
      "Try using .loc[row_indexer,col_indexer] = value instead\n",
      "\n",
      "See the the caveats in the documentation: http://pandas.pydata.org/pandas-docs/stable/indexing.html#indexing-view-versus-copy\n",
      "  self.obj[item] = s\n"
     ]
    }
   ],
   "source": [
    "# counts SoA and RT for all subjects and concatenates them in a DataFrame \n",
    "\n",
    "db_ALL = pd.DataFrame()\n",
    "db_RT = pd.DataFrame()\n",
    "subj_num = []\n",
    "for f in glob.glob('*.txt'):\n",
    "    subj_num.append(int(f.split('.')[0][1:]))\n",
    "    df = pd.read_csv(f, sep='\\t')\n",
    "    db_SoA = sp.get_color_info(df)\n",
    "    db_RT_temp = sp.get_RT(df)\n",
    "    db_ALL = db_ALL.append(db_SoA, ignore_index=True)\n",
    "    db_RT = db_RT.append(db_RT_temp, ignore_index=True)\n",
    "    print('read {}!'.format(f))\n",
    "db_ALL.index = subj_num\n",
    "db_RT.index = subj_num\n",
    "print('Done!')"
   ]
  },
  {
   "cell_type": "code",
   "execution_count": 77,
   "metadata": {
    "collapsed": false
   },
   "outputs": [
    {
     "name": "stdout",
     "output_type": "stream",
     "text": [
      "Done col: comp_r_RT\n",
      "Done col: comp_l_RT\n",
      "Done col: incomp_r_RT\n",
      "Done col: incomp_l_RT\n",
      "Done col: neut_r_RT\n",
      "Done col: neut_l_RT\n",
      "Done col: comp_RT\n",
      "Done col: incomp_RT\n",
      "Done col: neut_RT\n"
     ]
    }
   ],
   "source": [
    "for col in db_RT.columns:\n",
    "    for i in db_ALL.index:\n",
    "        db_ALL.loc[i, '{}'.format(col)] = db_RT.loc[i, col]\n",
    "    print('Done col: {}'.format(col))"
   ]
  },
  {
   "cell_type": "code",
   "execution_count": 78,
   "metadata": {
    "collapsed": false
   },
   "outputs": [],
   "source": [
    "# writing means of each condition (comp_l... etc):\n",
    "\n",
    "for c in db_ALL.columns:\n",
    "    for i in db_ALL.index:\n",
    "        db_ALL.loc[i, c] = np.mean(db_ALL.loc[i, c])"
   ]
  },
  {
   "cell_type": "code",
   "execution_count": 79,
   "metadata": {
    "collapsed": false
   },
   "outputs": [],
   "source": [
    "# means of conditions of both hands:\n",
    "\n",
    "for c in db_ALL.columns:\n",
    "    for i in db_ALL.index:\n",
    "        db_ALL.loc[i, 'comp'] = (db_ALL.loc[i, 'comp_l']+db_ALL.loc[i, 'comp_r'])/2\n",
    "        db_ALL.loc[i, 'incomp'] = (db_ALL.loc[i, 'incomp_l']+db_ALL.loc[i, 'incomp_r'])/2\n",
    "        db_ALL.loc[i, 'neut'] = (db_ALL.loc[i, 'neut_l']+db_ALL.loc[i, 'neut_r'])/2"
   ]
  },
  {
   "cell_type": "code",
   "execution_count": 80,
   "metadata": {
    "collapsed": true
   },
   "outputs": [],
   "source": [
    "# adding info about the condition\n",
    "\n",
    "for i in db_ALL.index:\n",
    "    if is_odd(i):\n",
    "        db_ALL.loc[i, 'condition'] = 'info'\n",
    "    else:\n",
    "        db_ALL.loc[i, 'condition'] = 'noinfo'"
   ]
  },
  {
   "cell_type": "code",
   "execution_count": 81,
   "metadata": {
    "collapsed": true
   },
   "outputs": [],
   "source": [
    "db_ALL = db_ALL.loc[np.sort(db_ALL.index), :]"
   ]
  },
  {
   "cell_type": "code",
   "execution_count": 82,
   "metadata": {
    "collapsed": false,
    "scrolled": true
   },
   "outputs": [
    {
     "data": {
      "text/html": [
       "<div>\n",
       "<table border=\"1\" class=\"dataframe\">\n",
       "  <thead>\n",
       "    <tr style=\"text-align: right;\">\n",
       "      <th></th>\n",
       "      <th>comp_l</th>\n",
       "      <th>comp_r</th>\n",
       "      <th>incomp_l</th>\n",
       "      <th>incomp_r</th>\n",
       "      <th>neut_l</th>\n",
       "      <th>neut_r</th>\n",
       "      <th>comp_r_RT</th>\n",
       "      <th>comp_l_RT</th>\n",
       "      <th>incomp_r_RT</th>\n",
       "      <th>incomp_l_RT</th>\n",
       "      <th>neut_r_RT</th>\n",
       "      <th>neut_l_RT</th>\n",
       "      <th>comp_RT</th>\n",
       "      <th>incomp_RT</th>\n",
       "      <th>neut_RT</th>\n",
       "      <th>comp</th>\n",
       "      <th>incomp</th>\n",
       "      <th>neut</th>\n",
       "      <th>condition</th>\n",
       "    </tr>\n",
       "  </thead>\n",
       "  <tbody>\n",
       "    <tr>\n",
       "      <th>1</th>\n",
       "      <td>24.66667</td>\n",
       "      <td>12.16667</td>\n",
       "      <td>13.16667</td>\n",
       "      <td>21.66667</td>\n",
       "      <td>17.33333</td>\n",
       "      <td>16</td>\n",
       "      <td>346.888889</td>\n",
       "      <td>338.439394</td>\n",
       "      <td>354.273973</td>\n",
       "      <td>363.176471</td>\n",
       "      <td>330.200000</td>\n",
       "      <td>340.873016</td>\n",
       "      <td>342.664141</td>\n",
       "      <td>358.725222</td>\n",
       "      <td>335.536508</td>\n",
       "      <td>18.416667</td>\n",
       "      <td>17.416667</td>\n",
       "      <td>16.666667</td>\n",
       "      <td>info</td>\n",
       "    </tr>\n",
       "    <tr>\n",
       "      <th>2</th>\n",
       "      <td>81.16667</td>\n",
       "      <td>80.66667</td>\n",
       "      <td>81.16667</td>\n",
       "      <td>79.16667</td>\n",
       "      <td>80.16667</td>\n",
       "      <td>80.33333</td>\n",
       "      <td>385.514851</td>\n",
       "      <td>416.759259</td>\n",
       "      <td>404.449438</td>\n",
       "      <td>418.880952</td>\n",
       "      <td>399.051546</td>\n",
       "      <td>430.545455</td>\n",
       "      <td>401.137055</td>\n",
       "      <td>411.665195</td>\n",
       "      <td>414.798500</td>\n",
       "      <td>80.916667</td>\n",
       "      <td>80.166667</td>\n",
       "      <td>80.250000</td>\n",
       "      <td>noinfo</td>\n",
       "    </tr>\n",
       "    <tr>\n",
       "      <th>11</th>\n",
       "      <td>49.83333</td>\n",
       "      <td>67.83333</td>\n",
       "      <td>46.16667</td>\n",
       "      <td>55</td>\n",
       "      <td>58.5</td>\n",
       "      <td>56.16667</td>\n",
       "      <td>350.743590</td>\n",
       "      <td>330.416667</td>\n",
       "      <td>355.028986</td>\n",
       "      <td>360.468750</td>\n",
       "      <td>356.414286</td>\n",
       "      <td>349.563380</td>\n",
       "      <td>340.580128</td>\n",
       "      <td>357.748868</td>\n",
       "      <td>352.988833</td>\n",
       "      <td>58.833333</td>\n",
       "      <td>50.583333</td>\n",
       "      <td>57.333333</td>\n",
       "      <td>info</td>\n",
       "    </tr>\n",
       "  </tbody>\n",
       "</table>\n",
       "</div>"
      ],
      "text/plain": [
       "      comp_l    comp_r  incomp_l  incomp_r    neut_l    neut_r   comp_r_RT  \\\n",
       "1   24.66667  12.16667  13.16667  21.66667  17.33333        16  346.888889   \n",
       "2   81.16667  80.66667  81.16667  79.16667  80.16667  80.33333  385.514851   \n",
       "11  49.83333  67.83333  46.16667        55      58.5  56.16667  350.743590   \n",
       "\n",
       "     comp_l_RT  incomp_r_RT  incomp_l_RT   neut_r_RT   neut_l_RT     comp_RT  \\\n",
       "1   338.439394   354.273973   363.176471  330.200000  340.873016  342.664141   \n",
       "2   416.759259   404.449438   418.880952  399.051546  430.545455  401.137055   \n",
       "11  330.416667   355.028986   360.468750  356.414286  349.563380  340.580128   \n",
       "\n",
       "     incomp_RT     neut_RT       comp     incomp       neut condition  \n",
       "1   358.725222  335.536508  18.416667  17.416667  16.666667      info  \n",
       "2   411.665195  414.798500  80.916667  80.166667  80.250000    noinfo  \n",
       "11  357.748868  352.988833  58.833333  50.583333  57.333333      info  "
      ]
     },
     "execution_count": 82,
     "metadata": {},
     "output_type": "execute_result"
    }
   ],
   "source": [
    "db_ALL.head()"
   ]
  },
  {
   "cell_type": "code",
   "execution_count": 86,
   "metadata": {
    "collapsed": false
   },
   "outputs": [
    {
     "data": {
      "text/html": [
       "<div>\n",
       "<table border=\"1\" class=\"dataframe\">\n",
       "  <thead>\n",
       "    <tr style=\"text-align: right;\">\n",
       "      <th></th>\n",
       "      <th>subj_nr</th>\n",
       "      <th>info_noinfo</th>\n",
       "      <th>comp_incomp</th>\n",
       "    </tr>\n",
       "  </thead>\n",
       "  <tbody>\n",
       "    <tr>\n",
       "      <th>1</th>\n",
       "      <td>1</td>\n",
       "      <td>info</td>\n",
       "      <td>18.416667</td>\n",
       "    </tr>\n",
       "    <tr>\n",
       "      <th>2</th>\n",
       "      <td>2</td>\n",
       "      <td>noinfo</td>\n",
       "      <td>80.916667</td>\n",
       "    </tr>\n",
       "    <tr>\n",
       "      <th>3</th>\n",
       "      <td>2</td>\n",
       "      <td>noinfo</td>\n",
       "      <td>80.250000</td>\n",
       "    </tr>\n",
       "    <tr>\n",
       "      <th>4</th>\n",
       "      <td>2</td>\n",
       "      <td>noinfo</td>\n",
       "      <td>80.166667</td>\n",
       "    </tr>\n",
       "    <tr>\n",
       "      <th>11</th>\n",
       "      <td>11</td>\n",
       "      <td>info</td>\n",
       "      <td>58.833333</td>\n",
       "    </tr>\n",
       "    <tr>\n",
       "      <th>12</th>\n",
       "      <td>11</td>\n",
       "      <td>info</td>\n",
       "      <td>57.333333</td>\n",
       "    </tr>\n",
       "    <tr>\n",
       "      <th>13</th>\n",
       "      <td>11</td>\n",
       "      <td>info</td>\n",
       "      <td>50.583333</td>\n",
       "    </tr>\n",
       "  </tbody>\n",
       "</table>\n",
       "</div>"
      ],
      "text/plain": [
       "    subj_nr info_noinfo  comp_incomp\n",
       "1         1        info    18.416667\n",
       "2         2      noinfo    80.916667\n",
       "3         2      noinfo    80.250000\n",
       "4         2      noinfo    80.166667\n",
       "11       11        info    58.833333\n",
       "12       11        info    57.333333\n",
       "13       11        info    50.583333"
      ]
     },
     "execution_count": 86,
     "metadata": {},
     "output_type": "execute_result"
    }
   ],
   "source": [
    "db_NEW"
   ]
  },
  {
   "cell_type": "code",
   "execution_count": 84,
   "metadata": {
    "collapsed": false
   },
   "outputs": [],
   "source": [
    "db_NEW = pd.DataFrame()\n",
    "for row in db_ALL.index:\n",
    "    for item in range(3):\n",
    "        db_NEW.loc[row+item, 'subj_nr'] = row\n",
    "        db_NEW.loc[row+item, 'info_noinfo'] = db_ALL.loc[row, 'condition']\n",
    "    db_NEW.loc[row, 'comp_incomp'] = db_ALL.loc[row, 'comp']\n",
    "    db_NEW.loc[row+1, 'comp_incomp'] = db_ALL.loc[row, 'neut']\n",
    "    db_NEW.loc[row+2, 'comp_incomp'] = db_ALL.loc[row, 'incomp']\n",
    "    "
   ]
  },
  {
   "cell_type": "code",
   "execution_count": 85,
   "metadata": {
    "collapsed": false
   },
   "outputs": [
    {
     "data": {
      "text/plain": [
       "Int64Index([1, 2, 11], dtype='int64')"
      ]
     },
     "execution_count": 85,
     "metadata": {},
     "output_type": "execute_result"
    }
   ],
   "source": [
    "db_ALL.index"
   ]
  },
  {
   "cell_type": "code",
   "execution_count": 72,
   "metadata": {
    "collapsed": true
   },
   "outputs": [],
   "source": [
    "db_NEW.to_excel('BAZA_MIXED_MODELS.xlsx')"
   ]
  }
 ],
 "metadata": {
  "kernelspec": {
   "display_name": "Python 3",
   "language": "python",
   "name": "python3"
  },
  "language_info": {
   "codemirror_mode": {
    "name": "ipython",
    "version": 3
   },
   "file_extension": ".py",
   "mimetype": "text/x-python",
   "name": "python",
   "nbconvert_exporter": "python",
   "pygments_lexer": "ipython3",
   "version": "3.4.3"
  }
 },
 "nbformat": 4,
 "nbformat_minor": 0
}
