{
 "cells": [
  {
   "cell_type": "code",
   "execution_count": 1,
   "metadata": {
    "collapsed": false
   },
   "outputs": [],
   "source": [
    "import numpy as np\n",
    "import pandas as pd\n",
    "import os\n",
    "pth = r'D:\\DATA\\miniproj\\Spra'\n",
    "fl = 'test.txt'\n",
    "fullf = os.path.join(pth, fl)"
   ]
  },
  {
   "cell_type": "code",
   "execution_count": 2,
   "metadata": {
    "collapsed": false
   },
   "outputs": [
    {
     "data": {
      "text/html": [
       "<div style=\"max-height:1000px;max-width:1500px;overflow:auto;\">\n",
       "<table border=\"1\" class=\"dataframe\">\n",
       "  <thead>\n",
       "    <tr style=\"text-align: right;\">\n",
       "      <th></th>\n",
       "      <th>Name</th>\n",
       "      <th>Block</th>\n",
       "      <th>Trial</th>\n",
       "      <th>CorrectRespon</th>\n",
       "      <th>Effect</th>\n",
       "      <th>GoalRespInd1</th>\n",
       "      <th>GoalRespInd2</th>\n",
       "      <th>GoalRespInd3</th>\n",
       "      <th>GoalRespInd4</th>\n",
       "      <th>GoalRespInd5</th>\n",
       "      <th>...</th>\n",
       "      <th>TBox2</th>\n",
       "      <th>TBox3</th>\n",
       "      <th>TBox4</th>\n",
       "      <th>TBox5</th>\n",
       "      <th>TBox6</th>\n",
       "      <th>TBoxPew</th>\n",
       "      <th>TrialType</th>\n",
       "      <th>WaitTime</th>\n",
       "      <th>Prime</th>\n",
       "      <th>Target</th>\n",
       "    </tr>\n",
       "  </thead>\n",
       "  <tbody>\n",
       "    <tr>\n",
       "      <th>0</th>\n",
       "      <td> Kasmir</td>\n",
       "      <td> 1</td>\n",
       "      <td>NaN</td>\n",
       "      <td> NaN</td>\n",
       "      <td>              NaN</td>\n",
       "      <td>NaN</td>\n",
       "      <td>NaN</td>\n",
       "      <td>NaN</td>\n",
       "      <td>NaN</td>\n",
       "      <td>NaN</td>\n",
       "      <td>...</td>\n",
       "      <td>NaN</td>\n",
       "      <td>NaN</td>\n",
       "      <td>NaN</td>\n",
       "      <td>NaN</td>\n",
       "      <td>NaN</td>\n",
       "      <td>NaN</td>\n",
       "      <td>    NaN</td>\n",
       "      <td> NaN</td>\n",
       "      <td>             NaN</td>\n",
       "      <td>              NaN</td>\n",
       "    </tr>\n",
       "    <tr>\n",
       "      <th>1</th>\n",
       "      <td> Kasmir</td>\n",
       "      <td> 2</td>\n",
       "      <td>  1</td>\n",
       "      <td>   d</td>\n",
       "      <td> color_orange.png</td>\n",
       "      <td>NaN</td>\n",
       "      <td>NaN</td>\n",
       "      <td>NaN</td>\n",
       "      <td>NaN</td>\n",
       "      <td>NaN</td>\n",
       "      <td>...</td>\n",
       "      <td>NaN</td>\n",
       "      <td>NaN</td>\n",
       "      <td>NaN</td>\n",
       "      <td>NaN</td>\n",
       "      <td>NaN</td>\n",
       "      <td>NaN</td>\n",
       "      <td> incomp</td>\n",
       "      <td> 300</td>\n",
       "      <td> prime_right.png</td>\n",
       "      <td>  target_left.png</td>\n",
       "    </tr>\n",
       "    <tr>\n",
       "      <th>2</th>\n",
       "      <td> Kasmir</td>\n",
       "      <td> 2</td>\n",
       "      <td>  2</td>\n",
       "      <td>   d</td>\n",
       "      <td> color_purple.png</td>\n",
       "      <td>NaN</td>\n",
       "      <td>NaN</td>\n",
       "      <td>NaN</td>\n",
       "      <td>NaN</td>\n",
       "      <td>NaN</td>\n",
       "      <td>...</td>\n",
       "      <td>NaN</td>\n",
       "      <td>NaN</td>\n",
       "      <td>NaN</td>\n",
       "      <td>NaN</td>\n",
       "      <td>NaN</td>\n",
       "      <td>NaN</td>\n",
       "      <td>   neut</td>\n",
       "      <td> 450</td>\n",
       "      <td>  prime_left.png</td>\n",
       "      <td>  target_left.png</td>\n",
       "    </tr>\n",
       "    <tr>\n",
       "      <th>3</th>\n",
       "      <td> Kasmir</td>\n",
       "      <td> 2</td>\n",
       "      <td>  3</td>\n",
       "      <td>   l</td>\n",
       "      <td> color_yellow.png</td>\n",
       "      <td>NaN</td>\n",
       "      <td>NaN</td>\n",
       "      <td>NaN</td>\n",
       "      <td>NaN</td>\n",
       "      <td>NaN</td>\n",
       "      <td>...</td>\n",
       "      <td>NaN</td>\n",
       "      <td>NaN</td>\n",
       "      <td>NaN</td>\n",
       "      <td>NaN</td>\n",
       "      <td>NaN</td>\n",
       "      <td>NaN</td>\n",
       "      <td> incomp</td>\n",
       "      <td> 300</td>\n",
       "      <td>  prime_left.png</td>\n",
       "      <td> target_right.png</td>\n",
       "    </tr>\n",
       "    <tr>\n",
       "      <th>4</th>\n",
       "      <td> Kasmir</td>\n",
       "      <td> 2</td>\n",
       "      <td>  4</td>\n",
       "      <td>   d</td>\n",
       "      <td>  color_green.png</td>\n",
       "      <td>NaN</td>\n",
       "      <td>NaN</td>\n",
       "      <td>NaN</td>\n",
       "      <td>NaN</td>\n",
       "      <td>NaN</td>\n",
       "      <td>...</td>\n",
       "      <td>NaN</td>\n",
       "      <td>NaN</td>\n",
       "      <td>NaN</td>\n",
       "      <td>NaN</td>\n",
       "      <td>NaN</td>\n",
       "      <td>NaN</td>\n",
       "      <td>   comp</td>\n",
       "      <td> 450</td>\n",
       "      <td>  prime_left.png</td>\n",
       "      <td>  target_left.png</td>\n",
       "    </tr>\n",
       "  </tbody>\n",
       "</table>\n",
       "<p>5 rows × 37 columns</p>\n",
       "</div>"
      ],
      "text/plain": [
       "     Name  Block  Trial CorrectRespon            Effect  GoalRespInd1  \\\n",
       "0  Kasmir      1    NaN           NaN               NaN           NaN   \n",
       "1  Kasmir      2      1             d  color_orange.png           NaN   \n",
       "2  Kasmir      2      2             d  color_purple.png           NaN   \n",
       "3  Kasmir      2      3             l  color_yellow.png           NaN   \n",
       "4  Kasmir      2      4             d   color_green.png           NaN   \n",
       "\n",
       "   GoalRespInd2  GoalRespInd3  GoalRespInd4  GoalRespInd5        ...         \\\n",
       "0           NaN           NaN           NaN           NaN        ...          \n",
       "1           NaN           NaN           NaN           NaN        ...          \n",
       "2           NaN           NaN           NaN           NaN        ...          \n",
       "3           NaN           NaN           NaN           NaN        ...          \n",
       "4           NaN           NaN           NaN           NaN        ...          \n",
       "\n",
       "   TBox2 TBox3 TBox4 TBox5 TBox6 TBoxPew TrialType WaitTime            Prime  \\\n",
       "0    NaN   NaN   NaN   NaN   NaN     NaN       NaN      NaN              NaN   \n",
       "1    NaN   NaN   NaN   NaN   NaN     NaN    incomp      300  prime_right.png   \n",
       "2    NaN   NaN   NaN   NaN   NaN     NaN      neut      450   prime_left.png   \n",
       "3    NaN   NaN   NaN   NaN   NaN     NaN    incomp      300   prime_left.png   \n",
       "4    NaN   NaN   NaN   NaN   NaN     NaN      comp      450   prime_left.png   \n",
       "\n",
       "             Target  \n",
       "0               NaN  \n",
       "1   target_left.png  \n",
       "2   target_left.png  \n",
       "3  target_right.png  \n",
       "4   target_left.png  \n",
       "\n",
       "[5 rows x 37 columns]"
      ]
     },
     "execution_count": 2,
     "metadata": {},
     "output_type": "execute_result"
    }
   ],
   "source": [
    "d = pd.read_table(fullf, sep = '\\t')\n",
    "d.head(5)"
   ]
  },
  {
   "cell_type": "code",
   "execution_count": 3,
   "metadata": {
    "collapsed": false
   },
   "outputs": [
    {
     "data": {
      "text/html": [
       "<div style=\"max-height:1000px;max-width:1500px;overflow:auto;\">\n",
       "<table border=\"1\" class=\"dataframe\">\n",
       "  <thead>\n",
       "    <tr style=\"text-align: right;\">\n",
       "      <th></th>\n",
       "      <th>Name</th>\n",
       "      <th>Block</th>\n",
       "      <th>Trial</th>\n",
       "      <th>CorrectRespon</th>\n",
       "      <th>Effect</th>\n",
       "      <th>GoalRespInd1</th>\n",
       "      <th>GoalRespInd2</th>\n",
       "      <th>GoalRespInd3</th>\n",
       "      <th>GoalRespInd4</th>\n",
       "      <th>GoalRespInd5</th>\n",
       "      <th>...</th>\n",
       "      <th>TBox2</th>\n",
       "      <th>TBox3</th>\n",
       "      <th>TBox4</th>\n",
       "      <th>TBox5</th>\n",
       "      <th>TBox6</th>\n",
       "      <th>TBoxPew</th>\n",
       "      <th>TrialType</th>\n",
       "      <th>WaitTime</th>\n",
       "      <th>Prime</th>\n",
       "      <th>Target</th>\n",
       "    </tr>\n",
       "  </thead>\n",
       "  <tbody>\n",
       "    <tr>\n",
       "      <th>73</th>\n",
       "      <td> Kasmir</td>\n",
       "      <td> 2</td>\n",
       "      <td> 73</td>\n",
       "      <td> NaN</td>\n",
       "      <td> NaN</td>\n",
       "      <td>  2</td>\n",
       "      <td>  1</td>\n",
       "      <td>  3</td>\n",
       "      <td>  6</td>\n",
       "      <td>  4</td>\n",
       "      <td>...</td>\n",
       "      <td>NaN</td>\n",
       "      <td>NaN</td>\n",
       "      <td>NaN</td>\n",
       "      <td>NaN</td>\n",
       "      <td>NaN</td>\n",
       "      <td>NaN</td>\n",
       "      <td> NaN</td>\n",
       "      <td>NaN</td>\n",
       "      <td> NaN</td>\n",
       "      <td> NaN</td>\n",
       "    </tr>\n",
       "    <tr>\n",
       "      <th>74</th>\n",
       "      <td> Kasmir</td>\n",
       "      <td> 2</td>\n",
       "      <td> 74</td>\n",
       "      <td> NaN</td>\n",
       "      <td> NaN</td>\n",
       "      <td>NaN</td>\n",
       "      <td>NaN</td>\n",
       "      <td>NaN</td>\n",
       "      <td>NaN</td>\n",
       "      <td>NaN</td>\n",
       "      <td>...</td>\n",
       "      <td> 20</td>\n",
       "      <td> 25</td>\n",
       "      <td> 26</td>\n",
       "      <td> 50</td>\n",
       "      <td> 70</td>\n",
       "      <td> 40</td>\n",
       "      <td> NaN</td>\n",
       "      <td>NaN</td>\n",
       "      <td> NaN</td>\n",
       "      <td> NaN</td>\n",
       "    </tr>\n",
       "  </tbody>\n",
       "</table>\n",
       "<p>2 rows × 37 columns</p>\n",
       "</div>"
      ],
      "text/plain": [
       "      Name  Block  Trial CorrectRespon Effect  GoalRespInd1  GoalRespInd2  \\\n",
       "73  Kasmir      2     73           NaN    NaN             2             1   \n",
       "74  Kasmir      2     74           NaN    NaN           NaN           NaN   \n",
       "\n",
       "    GoalRespInd3  GoalRespInd4  GoalRespInd5  ...    TBox2 TBox3 TBox4 TBox5  \\\n",
       "73             3             6             4  ...      NaN   NaN   NaN   NaN   \n",
       "74           NaN           NaN           NaN  ...       20    25    26    50   \n",
       "\n",
       "   TBox6 TBoxPew TrialType WaitTime Prime Target  \n",
       "73   NaN     NaN       NaN      NaN   NaN    NaN  \n",
       "74    70      40       NaN      NaN   NaN    NaN  \n",
       "\n",
       "[2 rows x 37 columns]"
      ]
     },
     "execution_count": 3,
     "metadata": {},
     "output_type": "execute_result"
    }
   ],
   "source": [
    "checkColumn = 'GoalRespName1'\n",
    "col = d.loc[d['Block'] == 2, checkColumn]\n",
    "\n",
    "def ischar(x):\n",
    "        return isinstance(x, str)\n",
    "\n",
    "ind = col.map(ischar)\n",
    "df = d.loc[d['Block'] == 2, :].loc[ind,:]\n",
    "df"
   ]
  },
  {
   "cell_type": "code",
   "execution_count": 7,
   "metadata": {
    "collapsed": false
   },
   "outputs": [],
   "source": [
    "# sprawdzamy jak oszacowana zostala sprawczość dla kolorów\n",
    "tbox = ['TBox{}'.format(i) for i in range(1, 7)]\n",
    "tb = df.loc[:, tbox].iloc[1, :].values\n",
    "ratings = tb.astype(\"int\")"
   ]
  },
  {
   "cell_type": "code",
   "execution_count": 15,
   "metadata": {
    "collapsed": false
   },
   "outputs": [
    {
     "data": {
      "text/plain": [
       "['p', 'o', 'r', 'y', 'b', 'g']"
      ]
     },
     "execution_count": 15,
     "metadata": {},
     "output_type": "execute_result"
    }
   ],
   "source": [
    "col = ['GoalRespName{}'.format(i) for i in range(1, 7)]\n",
    "coldf = d.loc[d['Block'] == 2, col].loc[ind,:].iloc[0]\n",
    "sorted_colors = [x.split('.')[0].split('_')[1][0] for x in coldf]\n",
    "sorted_colors"
   ]
  },
  {
   "cell_type": "code",
   "execution_count": 18,
   "metadata": {
    "collapsed": false
   },
   "outputs": [],
   "source": [
    "import superskrypt as sp"
   ]
  },
  {
   "cell_type": "code",
   "execution_count": 19,
   "metadata": {
    "collapsed": false
   },
   "outputs": [
    {
     "data": {
      "text/plain": [
       "{2: {'b': 'comp_r',\n",
       "  'g': 'comp_l',\n",
       "  'o': 'incomp_l',\n",
       "  'p': 'neut',\n",
       "  'r': 'neut',\n",
       "  'y': 'incomp_r'},\n",
       " 3: {'b': 'neut',\n",
       "  'g': 'incomp_l',\n",
       "  'o': 'neut',\n",
       "  'p': 'comp_l',\n",
       "  'r': 'incomp_r',\n",
       "  'y': 'comp_r'},\n",
       " 4: {'b': 'comp_l',\n",
       "  'g': 'neut',\n",
       "  'o': 'incomp_r',\n",
       "  'p': 'incomp_l',\n",
       "  'r': 'comp_r',\n",
       "  'y': 'neut'},\n",
       " 5: {'b': 'incomp_l',\n",
       "  'g': 'incomp_r',\n",
       "  'o': 'comp_r',\n",
       "  'p': 'neut',\n",
       "  'r': 'neut',\n",
       "  'y': 'comp_l'},\n",
       " 6: {'b': 'neut',\n",
       "  'g': 'comp_r',\n",
       "  'o': 'neut',\n",
       "  'p': 'incomp_r',\n",
       "  'r': 'comp_l',\n",
       "  'y': 'incomp_l'},\n",
       " 7: {'b': 'incomp_r',\n",
       "  'g': 'neut',\n",
       "  'o': 'comp_l',\n",
       "  'p': 'comp_r',\n",
       "  'r': 'incomp_l',\n",
       "  'y': 'neut'}}"
      ]
     },
     "execution_count": 19,
     "metadata": {},
     "output_type": "execute_result"
    }
   ],
   "source": [
    "coldict = sp.all_colors(d)\n",
    "coldict"
   ]
  },
  {
   "cell_type": "code",
   "execution_count": 22,
   "metadata": {
    "collapsed": false
   },
   "outputs": [
    {
     "name": "stdout",
     "output_type": "stream",
     "text": [
      "neut : 15\n",
      "incomp_l : 20\n",
      "neut : 25\n",
      "incomp_r : 26\n",
      "comp_r : 50\n",
      "comp_l : 70\n"
     ]
    }
   ],
   "source": [
    "howsorted = [coldict[2][x] for x in sorted_colors]\n",
    "for r, c in zip(ratings, howsorted):\n",
    "    print '{} : {}'.format(c, r)"
   ]
  },
  {
   "cell_type": "code",
   "execution_count": 33,
   "metadata": {
    "collapsed": false
   },
   "outputs": [
    {
     "data": {
      "text/plain": [
       "<module 'superskrypt' from 'superskrypt.py'>"
      ]
     },
     "execution_count": 33,
     "metadata": {},
     "output_type": "execute_result"
    }
   ],
   "source": [
    "reload(sp)"
   ]
  },
  {
   "cell_type": "code",
   "execution_count": 34,
   "metadata": {
    "collapsed": false
   },
   "outputs": [
    {
     "data": {
      "text/plain": [
       "{'comp_l': [70, 1, 65, 60, 40, 14],\n",
       " 'comp_r': [50, 50, 20, 18, 55, 56],\n",
       " 'incomp_l': [20, 60, 25, 80, 20, 20],\n",
       " 'incomp_r': [26, 15, 12, 45, 45, 70],\n",
       " 'neut': [15, 25, 20, 40, 45, 55, 14, 10, 69, 30, 39, 9]}"
      ]
     },
     "execution_count": 34,
     "metadata": {},
     "output_type": "execute_result"
    }
   ],
   "source": [
    "inf = sp.get_color_info(d)\n",
    "inf"
   ]
  },
  {
   "cell_type": "code",
   "execution_count": 36,
   "metadata": {
    "collapsed": false
   },
   "outputs": [
    {
     "data": {
      "text/html": [
       "<div style=\"max-height:1000px;max-width:1500px;overflow:auto;\">\n",
       "<table border=\"1\" class=\"dataframe\">\n",
       "  <thead>\n",
       "    <tr style=\"text-align: right;\">\n",
       "      <th></th>\n",
       "      <th>comp_l</th>\n",
       "      <th>comp_r</th>\n",
       "      <th>incomp_l</th>\n",
       "      <th>incomp_r</th>\n",
       "    </tr>\n",
       "  </thead>\n",
       "  <tbody>\n",
       "    <tr>\n",
       "      <th>0</th>\n",
       "      <td> 70</td>\n",
       "      <td> 50</td>\n",
       "      <td> 20</td>\n",
       "      <td> 26</td>\n",
       "    </tr>\n",
       "    <tr>\n",
       "      <th>1</th>\n",
       "      <td>  1</td>\n",
       "      <td> 50</td>\n",
       "      <td> 60</td>\n",
       "      <td> 15</td>\n",
       "    </tr>\n",
       "    <tr>\n",
       "      <th>2</th>\n",
       "      <td> 65</td>\n",
       "      <td> 20</td>\n",
       "      <td> 25</td>\n",
       "      <td> 12</td>\n",
       "    </tr>\n",
       "    <tr>\n",
       "      <th>3</th>\n",
       "      <td> 60</td>\n",
       "      <td> 18</td>\n",
       "      <td> 80</td>\n",
       "      <td> 45</td>\n",
       "    </tr>\n",
       "    <tr>\n",
       "      <th>4</th>\n",
       "      <td> 40</td>\n",
       "      <td> 55</td>\n",
       "      <td> 20</td>\n",
       "      <td> 45</td>\n",
       "    </tr>\n",
       "    <tr>\n",
       "      <th>5</th>\n",
       "      <td> 14</td>\n",
       "      <td> 56</td>\n",
       "      <td> 20</td>\n",
       "      <td> 70</td>\n",
       "    </tr>\n",
       "  </tbody>\n",
       "</table>\n",
       "</div>"
      ],
      "text/plain": [
       "   comp_l  comp_r  incomp_l  incomp_r\n",
       "0      70      50        20        26\n",
       "1       1      50        60        15\n",
       "2      65      20        25        12\n",
       "3      60      18        80        45\n",
       "4      40      55        20        45\n",
       "5      14      56        20        70"
      ]
     },
     "execution_count": 36,
     "metadata": {},
     "output_type": "execute_result"
    }
   ],
   "source": [
    "newdf = pd.DataFrame(inf)\n",
    "newdf"
   ]
  },
  {
   "cell_type": "code",
   "execution_count": 39,
   "metadata": {
    "collapsed": false
   },
   "outputs": [
    {
     "data": {
      "text/plain": [
       "comp_l      41.666667\n",
       "comp_r      41.500000\n",
       "incomp_l    37.500000\n",
       "incomp_r    35.500000\n",
       "dtype: float64"
      ]
     },
     "execution_count": 39,
     "metadata": {},
     "output_type": "execute_result"
    }
   ],
   "source": [
    "newdf.mean()"
   ]
  }
 ],
 "metadata": {
  "kernelspec": {
   "display_name": "Python 2",
   "language": "python",
   "name": "python2"
  },
  "language_info": {
   "codemirror_mode": {
    "name": "ipython",
    "version": 2
   },
   "file_extension": ".py",
   "mimetype": "text/x-python",
   "name": "python",
   "nbconvert_exporter": "python",
   "pygments_lexer": "ipython2",
   "version": "2.7.7"
  }
 },
 "nbformat": 4,
 "nbformat_minor": 0
}
