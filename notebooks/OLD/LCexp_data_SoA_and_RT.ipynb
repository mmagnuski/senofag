{
 "cells": [
  {
   "cell_type": "code",
   "execution_count": 1,
   "metadata": {
    "collapsed": false
   },
   "outputs": [],
   "source": [
    "import numpy as np\n",
    "import pandas as pd\n",
    "import os\n",
    "import glob\n",
    "import superskrypt as sp\n",
    "from scipy import stats"
   ]
  },
  {
   "cell_type": "code",
   "execution_count": 2,
   "metadata": {
    "collapsed": false
   },
   "outputs": [
    {
     "name": "stdout",
     "output_type": "stream",
     "text": [
      "C:\\Users\\LEON-NETB\\Dropbox\\LEON_CIECHANOWSKI\\DANE_EEG\n"
     ]
    }
   ],
   "source": [
    "PTH = r\"C:\\Users\\LEON-NETB\\Dropbox\\LEON_CIECHANOWSKI\\DANE_EEG\"\n",
    "os.chdir(PTH)\n",
    "print(os.getcwd())"
   ]
  },
  {
   "cell_type": "code",
   "execution_count": 3,
   "metadata": {
    "collapsed": true
   },
   "outputs": [],
   "source": [
    "def is_odd(num):\n",
    "    return num % 2"
   ]
  },
  {
   "cell_type": "code",
   "execution_count": 4,
   "metadata": {
    "collapsed": false
   },
   "outputs": [
    {
     "name": "stdout",
     "output_type": "stream",
     "text": [
      "read s2.txt!\n",
      "read s3.txt!\n",
      "Done!\n"
     ]
    },
    {
     "name": "stderr",
     "output_type": "stream",
     "text": [
      "D:\\Miniconda3\\envs\\py3\\lib\\site-packages\\pandas\\core\\indexing.py:415: SettingWithCopyWarning: \n",
      "A value is trying to be set on a copy of a slice from a DataFrame.\n",
      "Try using .loc[row_indexer,col_indexer] = value instead\n",
      "\n",
      "See the the caveats in the documentation: http://pandas.pydata.org/pandas-docs/stable/indexing.html#indexing-view-versus-copy\n",
      "  self.obj[item] = s\n"
     ]
    }
   ],
   "source": [
    "# counts SoA and RT for all subjects and concatenates them in a DataFrame \n",
    "\n",
    "db_ALL = pd.DataFrame()\n",
    "db_RT = pd.DataFrame()\n",
    "subj_num = []\n",
    "for f in glob.glob('*.txt'):\n",
    "    subj_num.append(int(f.split('.')[0][1:]))\n",
    "    df = pd.read_csv(f, sep='\\t')\n",
    "    db_SoA = sp.get_color_info(df)\n",
    "    db_RT_temp = sp.get_RT(df)\n",
    "    db_ALL = db_ALL.append(db_SoA, ignore_index=True)\n",
    "    db_RT = db_RT.append(db_RT_temp, ignore_index=True)\n",
    "    print('read {}!'.format(f))\n",
    "db_ALL.index = subj_num\n",
    "db_RT.index = subj_num\n",
    "print('Done!')"
   ]
  },
  {
   "cell_type": "code",
   "execution_count": 5,
   "metadata": {
    "collapsed": false
   },
   "outputs": [
    {
     "name": "stdout",
     "output_type": "stream",
     "text": [
      "Done col: comp_r_RT\n",
      "Done col: comp_l_RT\n",
      "Done col: incomp_r_RT\n",
      "Done col: incomp_l_RT\n",
      "Done col: neut_r_RT\n",
      "Done col: neut_l_RT\n",
      "Done col: comp_RT\n",
      "Done col: incomp_RT\n",
      "Done col: neut_RT\n"
     ]
    }
   ],
   "source": [
    "for col in db_RT.columns:\n",
    "    for i in db_ALL.index:\n",
    "        db_ALL.loc[i, '{}'.format(col)] = db_RT.loc[i, col]\n",
    "    print('Done col: {}'.format(col))"
   ]
  },
  {
   "cell_type": "code",
   "execution_count": 6,
   "metadata": {
    "collapsed": false
   },
   "outputs": [],
   "source": [
    "# writing means of each condition (comp_l... etc):\n",
    "\n",
    "for c in db_ALL.columns:\n",
    "    for i in db_ALL.index:\n",
    "        db_ALL.loc[i, c] = np.mean(db_ALL.loc[i, c])"
   ]
  },
  {
   "cell_type": "code",
   "execution_count": 7,
   "metadata": {
    "collapsed": false
   },
   "outputs": [],
   "source": [
    "# means of conditions of both hands:\n",
    "\n",
    "for c in db_ALL.columns:\n",
    "    for i in db_ALL.index:\n",
    "        db_ALL.loc[i, 'comp'] = (db_ALL.loc[i, 'comp_l']+db_ALL.loc[i, 'comp_r'])/2\n",
    "        db_ALL.loc[i, 'incomp'] = (db_ALL.loc[i, 'incomp_l']+db_ALL.loc[i, 'incomp_r'])/2\n",
    "        db_ALL.loc[i, 'neut'] = (db_ALL.loc[i, 'neut_l']+db_ALL.loc[i, 'neut_r'])/2"
   ]
  },
  {
   "cell_type": "code",
   "execution_count": 8,
   "metadata": {
    "collapsed": true
   },
   "outputs": [],
   "source": [
    "# adding info about the condition\n",
    "\n",
    "for i in db_ALL.index:\n",
    "    if is_odd(i):\n",
    "        db_ALL.loc[i, 'condition'] = 'info'\n",
    "    else:\n",
    "        db_ALL.loc[i, 'condition'] = 'noinfo'"
   ]
  },
  {
   "cell_type": "code",
   "execution_count": 9,
   "metadata": {
    "collapsed": true
   },
   "outputs": [],
   "source": [
    "db_ALL = db_ALL.loc[np.sort(db_ALL.index), :]\n",
    "db_ALL.to_excel('BAZA_NONSTAND.xlsx')"
   ]
  }
 ],
 "metadata": {
  "anaconda-cloud": {},
  "kernelspec": {
   "display_name": "Python [Root]",
   "language": "python",
   "name": "Python [Root]"
  },
  "language_info": {
   "codemirror_mode": {
    "name": "ipython",
    "version": 3
   },
   "file_extension": ".py",
   "mimetype": "text/x-python",
   "name": "python",
   "nbconvert_exporter": "python",
   "pygments_lexer": "ipython3",
   "version": "3.5.2"
  }
 },
 "nbformat": 4,
 "nbformat_minor": 0
}
