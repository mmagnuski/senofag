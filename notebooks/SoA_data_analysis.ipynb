{
 "cells": [
  {
   "cell_type": "markdown",
   "metadata": {},
   "source": [
    "# ---------------------------- Experiment SoA DATA ANALYSIS ----------------------------"
   ]
  },
  {
   "cell_type": "code",
   "execution_count": 1,
   "metadata": {
    "collapsed": true
   },
   "outputs": [],
   "source": [
    "import SoA_DataPreparation as dataprep"
   ]
  },
  {
   "cell_type": "code",
   "execution_count": 2,
   "metadata": {
    "collapsed": true
   },
   "outputs": [],
   "source": [
    "import numpy as np\n",
    "import pandas as pd"
   ]
  },
  {
   "cell_type": "code",
   "execution_count": 3,
   "metadata": {
    "collapsed": true
   },
   "outputs": [],
   "source": [
    "%matplotlib inline\n",
    "import matplotlib as mpl\n",
    "import matplotlib.pyplot as plt\n",
    "import seaborn as sns"
   ]
  },
  {
   "cell_type": "code",
   "execution_count": 4,
   "metadata": {},
   "outputs": [
    {
     "name": "stderr",
     "output_type": "stream",
     "text": [
      "C:\\ProgramData\\Anaconda3\\lib\\site-packages\\statsmodels\\compat\\pandas.py:56: FutureWarning: The pandas.core.datetools module is deprecated and will be removed in a future version. Please use the pandas.tseries module instead.\n",
      "  from pandas.core import datetools\n"
     ]
    }
   ],
   "source": [
    "from statsmodels.formula.api import ols\n",
    "import statsmodels.api as sm\n",
    "import statsmodels.formula.api as smf\n",
    "from scipy import stats"
   ]
  },
  {
   "cell_type": "markdown",
   "metadata": {},
   "source": [
    "## DataFrame preparation"
   ]
  },
  {
   "cell_type": "code",
   "execution_count": 5,
   "metadata": {},
   "outputs": [
    {
     "name": "stdout",
     "output_type": "stream",
     "text": [
      "Number of rows = 20651\n",
      "Number of persons = 31\n",
      "Persons' numbers = ['005' '008' '009' '016' '019' '022' '023' '024' '026' '028' '029' '038'\n",
      " '052' '055' '065' '069' '070' '074' '077' '080' '084' '086' '088' '091'\n",
      " '093' '096' '098' '099' '103' '105' '117']\n",
      "{'Group_1': 15, 'Group_2': 16}\n"
     ]
    },
    {
     "data": {
      "text/html": [
       "<div>\n",
       "<style>\n",
       "    .dataframe thead tr:only-child th {\n",
       "        text-align: right;\n",
       "    }\n",
       "\n",
       "    .dataframe thead th {\n",
       "        text-align: left;\n",
       "    }\n",
       "\n",
       "    .dataframe tbody tr th {\n",
       "        vertical-align: top;\n",
       "    }\n",
       "</style>\n",
       "<table border=\"1\" class=\"dataframe\">\n",
       "  <thead>\n",
       "    <tr style=\"text-align: right;\">\n",
       "      <th></th>\n",
       "      <th>Unnamed: 0</th>\n",
       "      <th>cond</th>\n",
       "      <th>choiceType</th>\n",
       "      <th>prime</th>\n",
       "      <th>target</th>\n",
       "      <th>effect</th>\n",
       "      <th>corrResp</th>\n",
       "      <th>resp</th>\n",
       "      <th>pos</th>\n",
       "      <th>block</th>\n",
       "      <th>...</th>\n",
       "      <th>RT</th>\n",
       "      <th>soa_rating</th>\n",
       "      <th>rating_RT</th>\n",
       "      <th>delay1</th>\n",
       "      <th>delay2</th>\n",
       "      <th>ITI</th>\n",
       "      <th>saveTime</th>\n",
       "      <th>subject_nr</th>\n",
       "      <th>block_nr</th>\n",
       "      <th>group_nr</th>\n",
       "    </tr>\n",
       "  </thead>\n",
       "  <tbody>\n",
       "    <tr>\n",
       "      <th>0</th>\n",
       "      <td>1</td>\n",
       "      <td>comp</td>\n",
       "      <td>Free</td>\n",
       "      <td>prime_right.png</td>\n",
       "      <td>target_both.png</td>\n",
       "      <td>red</td>\n",
       "      <td>dl</td>\n",
       "      <td>l</td>\n",
       "      <td>-5.0</td>\n",
       "      <td>1</td>\n",
       "      <td>...</td>\n",
       "      <td>0.516441</td>\n",
       "      <td>1</td>\n",
       "      <td>7.214</td>\n",
       "      <td>46.0</td>\n",
       "      <td>104.0</td>\n",
       "      <td>67.0</td>\n",
       "      <td>0.003275</td>\n",
       "      <td>005</td>\n",
       "      <td>1</td>\n",
       "      <td>1</td>\n",
       "    </tr>\n",
       "    <tr>\n",
       "      <th>1</th>\n",
       "      <td>2</td>\n",
       "      <td>comp</td>\n",
       "      <td>Cued</td>\n",
       "      <td>prime_left.png</td>\n",
       "      <td>target_left.png</td>\n",
       "      <td>blue</td>\n",
       "      <td>d</td>\n",
       "      <td>d</td>\n",
       "      <td>5.0</td>\n",
       "      <td>1</td>\n",
       "      <td>...</td>\n",
       "      <td>0.310004</td>\n",
       "      <td>6</td>\n",
       "      <td>2.362</td>\n",
       "      <td>50.0</td>\n",
       "      <td>125.0</td>\n",
       "      <td>29.0</td>\n",
       "      <td>0.003189</td>\n",
       "      <td>005</td>\n",
       "      <td>1</td>\n",
       "      <td>1</td>\n",
       "    </tr>\n",
       "    <tr>\n",
       "      <th>2</th>\n",
       "      <td>3</td>\n",
       "      <td>comp</td>\n",
       "      <td>Cued</td>\n",
       "      <td>prime_left.png</td>\n",
       "      <td>target_left.png</td>\n",
       "      <td>blue</td>\n",
       "      <td>d</td>\n",
       "      <td>d</td>\n",
       "      <td>-5.0</td>\n",
       "      <td>1</td>\n",
       "      <td>...</td>\n",
       "      <td>0.464200</td>\n",
       "      <td>6</td>\n",
       "      <td>1.602</td>\n",
       "      <td>43.0</td>\n",
       "      <td>91.0</td>\n",
       "      <td>61.0</td>\n",
       "      <td>0.003173</td>\n",
       "      <td>005</td>\n",
       "      <td>1</td>\n",
       "      <td>1</td>\n",
       "    </tr>\n",
       "    <tr>\n",
       "      <th>3</th>\n",
       "      <td>4</td>\n",
       "      <td>comp</td>\n",
       "      <td>Cued</td>\n",
       "      <td>prime_left.png</td>\n",
       "      <td>target_left.png</td>\n",
       "      <td>blue</td>\n",
       "      <td>d</td>\n",
       "      <td>d</td>\n",
       "      <td>-5.0</td>\n",
       "      <td>1</td>\n",
       "      <td>...</td>\n",
       "      <td>0.556996</td>\n",
       "      <td>6</td>\n",
       "      <td>1.131</td>\n",
       "      <td>53.0</td>\n",
       "      <td>83.0</td>\n",
       "      <td>46.0</td>\n",
       "      <td>0.003183</td>\n",
       "      <td>005</td>\n",
       "      <td>1</td>\n",
       "      <td>1</td>\n",
       "    </tr>\n",
       "    <tr>\n",
       "      <th>4</th>\n",
       "      <td>5</td>\n",
       "      <td>incomp</td>\n",
       "      <td>Cued</td>\n",
       "      <td>prime_right.png</td>\n",
       "      <td>target_left.png</td>\n",
       "      <td>yellow</td>\n",
       "      <td>d</td>\n",
       "      <td>d</td>\n",
       "      <td>-5.0</td>\n",
       "      <td>1</td>\n",
       "      <td>...</td>\n",
       "      <td>0.538340</td>\n",
       "      <td>5</td>\n",
       "      <td>1.171</td>\n",
       "      <td>53.0</td>\n",
       "      <td>124.0</td>\n",
       "      <td>48.0</td>\n",
       "      <td>0.003187</td>\n",
       "      <td>005</td>\n",
       "      <td>1</td>\n",
       "      <td>1</td>\n",
       "    </tr>\n",
       "  </tbody>\n",
       "</table>\n",
       "<p>5 rows × 22 columns</p>\n",
       "</div>"
      ],
      "text/plain": [
       "   Unnamed: 0    cond choiceType            prime           target  effect  \\\n",
       "0           1    comp       Free  prime_right.png  target_both.png     red   \n",
       "1           2    comp       Cued   prime_left.png  target_left.png    blue   \n",
       "2           3    comp       Cued   prime_left.png  target_left.png    blue   \n",
       "3           4    comp       Cued   prime_left.png  target_left.png    blue   \n",
       "4           5  incomp       Cued  prime_right.png  target_left.png  yellow   \n",
       "\n",
       "  corrResp resp  pos  block   ...           RT  soa_rating  rating_RT  delay1  \\\n",
       "0       dl    l -5.0      1   ...     0.516441           1      7.214    46.0   \n",
       "1        d    d  5.0      1   ...     0.310004           6      2.362    50.0   \n",
       "2        d    d -5.0      1   ...     0.464200           6      1.602    43.0   \n",
       "3        d    d -5.0      1   ...     0.556996           6      1.131    53.0   \n",
       "4        d    d -5.0      1   ...     0.538340           5      1.171    53.0   \n",
       "\n",
       "   delay2   ITI  saveTime  subject_nr  block_nr group_nr  \n",
       "0   104.0  67.0  0.003275         005         1        1  \n",
       "1   125.0  29.0  0.003189         005         1        1  \n",
       "2    91.0  61.0  0.003173         005         1        1  \n",
       "3    83.0  46.0  0.003183         005         1        1  \n",
       "4   124.0  48.0  0.003187         005         1        1  \n",
       "\n",
       "[5 rows x 22 columns]"
      ]
     },
     "execution_count": 5,
     "metadata": {},
     "output_type": "execute_result"
    }
   ],
   "source": [
    "df = dataprep.DF_prep()\n",
    "\n",
    "df.head()"
   ]
  },
  {
   "cell_type": "code",
   "execution_count": 6,
   "metadata": {},
   "outputs": [
    {
     "data": {
      "text/plain": [
       "Index(['Unnamed: 0', 'cond', 'choiceType', 'prime', 'target', 'effect',\n",
       "       'corrResp', 'resp', 'pos', 'block', 'fixTime', 'ifcorr', 'RT',\n",
       "       'soa_rating', 'rating_RT', 'delay1', 'delay2', 'ITI', 'saveTime',\n",
       "       'subject_nr', 'block_nr', 'group_nr'],\n",
       "      dtype='object')"
      ]
     },
     "execution_count": 6,
     "metadata": {},
     "output_type": "execute_result"
    }
   ],
   "source": [
    "df.columns"
   ]
  },
  {
   "cell_type": "markdown",
   "metadata": {},
   "source": [
    "## Basic plots"
   ]
  },
  {
   "cell_type": "code",
   "execution_count": 7,
   "metadata": {
    "collapsed": true
   },
   "outputs": [],
   "source": [
    "df_clean = df.query('ifcorr == True')"
   ]
  },
  {
   "cell_type": "code",
   "execution_count": 8,
   "metadata": {},
   "outputs": [
    {
     "data": {
      "text/plain": [
       "Text(0.5,0,'Rodzaj strzałki')"
      ]
     },
     "execution_count": 8,
     "metadata": {},
     "output_type": "execute_result"
    },
    {
     "data": {
      "image/png": "[encoded data removed]",
      "text/plain": [
       "<Figure size 504x504 with 1 Axes>"
      ]
     },
     "metadata": {},
     "output_type": "display_data"
    }
   ],
   "source": [
    "plt.figure(1, figsize=(7, 7))\n",
    "\n",
    "axis = sns.pointplot(x='choiceType', y='soa_rating', order=('Cued', 'Free'), hue='cond', hue_order=('comp', 'incomp'), \n",
    "                         data=df_clean.query('group_nr == 1'), palette=('seagreen', 'crimson'), dodge=True,\n",
    "                         markers=[\"x\", \"x\"])\n",
    "\n",
    "axis = sns.pointplot(x='choiceType', y='soa_rating', order=('Cued', 'Free'), hue='cond', hue_order=('comp', 'incomp'), \n",
    "                         data=df_clean.query('group_nr == 2'), palette=('lawngreen', 'lightcoral'), dodge=True,\n",
    "                         markers=[\"s\", \"s\"])\n",
    "\n",
    "leg_handles = axis.get_legend_handles_labels()[0]\n",
    "axis.legend(leg_handles, ['comp noinfo', 'incomp noinfo','comp info', 'incomp info'], title='Groups')\n",
    "\n",
    "axis.set_title('SoA w podziale na grupy', fontsize=15)\n",
    "axis.set_ylabel(\"Poczucie kontroli\")\n",
    "axis.set_xlabel(u\"Rodzaj strzałki\")"
   ]
  },
  {
   "cell_type": "code",
   "execution_count": 9,
   "metadata": {},
   "outputs": [
    {
     "data": {
      "text/plain": [
       "Text(0.5,0,'Rodzaj strzałki')"
      ]
     },
     "execution_count": 9,
     "metadata": {},
     "output_type": "execute_result"
    },
    {
     "data": {
      "image/png": "[encoded data removed]",
      "text/plain": [
       "<Figure size 432x288 with 1 Axes>"
      ]
     },
     "metadata": {},
     "output_type": "display_data"
    }
   ],
   "source": [
    "axis = sns.pointplot(data=df_clean.query('group_nr == 1'), x='choiceType', y='soa_rating', order=('Cued', 'Free'), hue='cond', \n",
    "                     hue_order=('comp', 'incomp'), palette=('seagreen', 'crimson'), dodge=True,\n",
    "                         markers=[\"x\", \"x\"])\n",
    "\n",
    "axis.set_title('SoA, grupa noinfo', fontsize=15)\n",
    "axis.set_ylabel(\"Poczucie kontroli\")\n",
    "axis.set_xlabel(u\"Rodzaj strzałki\")"
   ]
  },
  {
   "cell_type": "code",
   "execution_count": 10,
   "metadata": {},
   "outputs": [
    {
     "data": {
      "text/plain": [
       "Text(0.5,0,'Rodzaj strzałki')"
      ]
     },
     "execution_count": 10,
     "metadata": {},
     "output_type": "execute_result"
    },
    {
     "data": {
      "image/png": "[encoded data removed]",
      "text/plain": [
       "<Figure size 432x288 with 1 Axes>"
      ]
     },
     "metadata": {},
     "output_type": "display_data"
    }
   ],
   "source": [
    "axis = sns.pointplot(data=df_clean.query('group_nr == 2'), x='choiceType', y='soa_rating', order=('Cued', 'Free'), hue='cond', \n",
    "                     hue_order=('comp', 'incomp'), palette=('lawngreen', 'lightcoral'), dodge=True,\n",
    "                         markers=[\"x\", \"x\"])\n",
    "\n",
    "axis.set_title('SoA, grupa info', fontsize=15)\n",
    "axis.set_ylabel(\"Poczucie kontroli\")\n",
    "axis.set_xlabel(u\"Rodzaj strzałki\")"
   ]
  },
  {
   "cell_type": "code",
   "execution_count": null,
   "metadata": {
    "collapsed": true
   },
   "outputs": [],
   "source": []
  }
 ],
 "metadata": {
  "kernelspec": {
   "display_name": "Python 3",
   "language": "python",
   "name": "python3"
  },
  "language_info": {
   "codemirror_mode": {
    "name": "ipython",
    "version": 3
   },
   "file_extension": ".py",
   "mimetype": "text/x-python",
   "name": "python",
   "nbconvert_exporter": "python",
   "pygments_lexer": "ipython3",
   "version": "3.6.6"
  }
 },
 "nbformat": 4,
 "nbformat_minor": 2
}
