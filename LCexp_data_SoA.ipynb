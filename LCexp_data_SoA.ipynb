{
 "cells": [
  {
   "cell_type": "code",
   "execution_count": 1,
   "metadata": {
    "collapsed": false
   },
   "outputs": [],
   "source": [
    "import numpy as np\n",
    "import pandas as pd\n",
    "import os\n",
    "import glob\n",
    "import superskrypt as sp\n",
    "from scipy import stats"
   ]
  },
  {
   "cell_type": "code",
   "execution_count": 2,
   "metadata": {
    "collapsed": false
   },
   "outputs": [
    {
     "name": "stdout",
     "output_type": "stream",
     "text": [
      "C:\\Users\\LEON-NETB\\Dropbox\\LEON_CIECHANOWSKI\\DANE_EEG\n"
     ]
    }
   ],
   "source": [
    "PTH = r\"C:\\Users\\LEON-NETB\\Dropbox\\LEON_CIECHANOWSKI\\DANE\"\n",
    "os.chdir(PTH)\n",
    "print(os.getcwd())"
   ]
  },
  {
   "cell_type": "code",
   "execution_count": 3,
   "metadata": {
    "collapsed": true
   },
   "outputs": [],
   "source": [
    "#for f in glob.glob('*.txt'):\n",
    "#     print(f)"
   ]
  },
  {
   "cell_type": "code",
   "execution_count": 4,
   "metadata": {
    "collapsed": true
   },
   "outputs": [],
   "source": [
    "def is_odd(num):\n",
    "    return num % 2"
   ]
  },
  {
   "cell_type": "code",
   "execution_count": 5,
   "metadata": {
    "collapsed": false
   },
   "outputs": [
    {
     "name": "stdout",
     "output_type": "stream",
     "text": [
      "read s2.txt!\n"
     ]
    }
   ],
   "source": [
    "d2 = pd.DataFrame()\n",
    "subj_num = []\n",
    "for f in glob.glob('*.txt'):\n",
    "    subj_num.append(int(f.split('.')[0][1:]))\n",
    "    df = pd.read_csv(f, sep='\\t')\n",
    "    print('read {}!'.format(f))\n",
    "    db = sp.get_color_info(df)\n",
    "    d2 = d2.append(db, ignore_index=True)"
   ]
  },
  {
   "cell_type": "code",
   "execution_count": 6,
   "metadata": {
    "collapsed": false
   },
   "outputs": [],
   "source": [
    "for c in d2.columns:\n",
    "    for i in d2.index:\n",
    "        d2.loc[i, c] = np.mean(d2.loc[i, c])"
   ]
  },
  {
   "cell_type": "code",
   "execution_count": 7,
   "metadata": {
    "collapsed": false
   },
   "outputs": [],
   "source": [
    "for c in d2.columns:\n",
    "    for i in d2.index:\n",
    "        d2.loc[i, 'comp'] = (d2.loc[i, 'comp_l']+d2.loc[i, 'comp_r'])/2\n",
    "        d2.loc[i, 'incomp'] = (d2.loc[i, 'incomp_l']+d2.loc[i, 'incomp_r'])/2\n",
    "        d2.loc[i, 'neut'] = (d2.loc[i, 'neut_l']+d2.loc[i, 'neut_r'])/2"
   ]
  },
  {
   "cell_type": "code",
   "execution_count": 8,
   "metadata": {
    "collapsed": false
   },
   "outputs": [],
   "source": [
    "d2.index = subj_num\n",
    "for i in d2.index:\n",
    "    if is_odd(i):\n",
    "        d2.loc[i, 'condition'] = 'info'\n",
    "    else:\n",
    "        d2.loc[i, 'condition'] = 'noinfo'"
   ]
  },
  {
   "cell_type": "code",
   "execution_count": 13,
   "metadata": {
    "collapsed": true
   },
   "outputs": [],
   "source": [
    "d2 = d2.loc[np.sort(d2.index), :]\n",
    "d2.to_excel('BAZA_NONSTAND.xlsx')"
   ]
  },
  {
   "cell_type": "code",
   "execution_count": 14,
   "metadata": {
    "collapsed": false
   },
   "outputs": [],
   "source": [
    "def get_zscores(df):\n",
    "    inf = sp.get_color_info(df)\n",
    "    newdf = pd.DataFrame(inf)\n",
    "    all_ratings = newdf.values.ravel()\n",
    "    df_zscore = newdf.copy()\n",
    "    df_zscore.loc[:, :] = stats.zscore(all_ratings).reshape(newdf.shape)\n",
    "    return df_zscore.mean()"
   ]
  },
  {
   "cell_type": "code",
   "execution_count": 15,
   "metadata": {
    "collapsed": false
   },
   "outputs": [
    {
     "name": "stdout",
     "output_type": "stream",
     "text": [
      "read s1.txt!\n",
      "read s11.txt!\n",
      "read s13.txt!\n",
      "read s15.txt!\n",
      "read s18.txt!\n",
      "read s19.txt!\n",
      "read s2.txt!\n",
      "read s20.txt!\n",
      "read s21.txt!\n",
      "read s22.txt!\n",
      "read s24.txt!\n",
      "read s25.txt!\n",
      "read s26.txt!\n",
      "read s27.txt!\n",
      "read s28.txt!\n",
      "read s29.txt!\n",
      "read s30.txt!\n",
      "read s32.txt!\n",
      "read s33.txt!\n",
      "read s34.txt!\n",
      "read s35.txt!\n",
      "read s36.txt!\n",
      "read s37.txt!\n",
      "read s38.txt!\n",
      "read s39.txt!\n",
      "read s4.txt!\n",
      "read s41.txt!\n",
      "read s5.txt!\n",
      "read s6.txt!\n",
      "read s7.txt!\n",
      "read s8.txt!\n",
      "read s9.txt!\n"
     ]
    }
   ],
   "source": [
    "d1 = pd.DataFrame()\n",
    "subj_num = []\n",
    "for f in glob.glob('*.txt'):\n",
    "    subj_num.append(int(f.split('.')[0][1:]))\n",
    "    df = pd.read_csv(f, sep='\\t')\n",
    "    print('read {}!'.format(f))\n",
    "    db = get_zscores(df)\n",
    "    d1 = d1.append(db, ignore_index=True)"
   ]
  },
  {
   "cell_type": "code",
   "execution_count": 16,
   "metadata": {
    "collapsed": true
   },
   "outputs": [],
   "source": [
    "for c in d1.columns:\n",
    "    for i in d1.index:\n",
    "        d1.loc[i, 'comp'] = (d1.loc[i, 'comp_l']+d1.loc[i, 'comp_r'])/2\n",
    "        d1.loc[i, 'incomp'] = (d1.loc[i, 'incomp_l']+d1.loc[i, 'incomp_r'])/2\n",
    "        d1.loc[i, 'neut'] = (d1.loc[i, 'neut_l']+d1.loc[i, 'neut_r'])/2"
   ]
  },
  {
   "cell_type": "code",
   "execution_count": 17,
   "metadata": {
    "collapsed": false
   },
   "outputs": [],
   "source": [
    "d1.index = subj_num\n",
    "for i in d1.index:\n",
    "    if is_odd(i):\n",
    "        d1.loc[i, 'condition'] = 'info'\n",
    "    else:\n",
    "        d1.loc[i, 'condition'] = 'noinfo'"
   ]
  },
  {
   "cell_type": "code",
   "execution_count": 18,
   "metadata": {
    "collapsed": false
   },
   "outputs": [],
   "source": [
    "d1 = d1.loc[np.sort(d1.index), :]\n",
    "d1.to_excel('BAZA_STANDARYZOWANA.xlsx')"
   ]
  }
 ],
 "metadata": {
  "kernelspec": {
   "display_name": "Python 3",
   "language": "python",
   "name": "python3"
  },
  "language_info": {
   "codemirror_mode": {
    "name": "ipython",
    "version": 3
   },
   "file_extension": ".py",
   "mimetype": "text/x-python",
   "name": "python",
   "nbconvert_exporter": "python",
   "pygments_lexer": "ipython3",
   "version": "3.4.3"
  }
 },
 "nbformat": 4,
 "nbformat_minor": 0
}
